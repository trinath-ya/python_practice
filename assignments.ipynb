{
 "cells": [
  {
   "cell_type": "code",
   "execution_count": 218,
   "metadata": {},
   "outputs": [
    {
     "name": "stdout",
     "output_type": "stream",
     "text": [
      "Total number of people: 300\n",
      "Number of seats per a bus: 25\n",
      "Required buses are: 12\n"
     ]
    }
   ],
   "source": [
    "pple=int(raw_input(\"Total number of people: \"))\n",
    "bus=int(raw_input(\"Number of seats per a bus: \"))\n",
    "req=pple/bus\n",
    "print \"Required buses are:\",req"
   ]
  },
  {
   "cell_type": "code",
   "execution_count": 258,
   "metadata": {},
   "outputs": [
    {
     "name": "stdout",
     "output_type": "stream",
     "text": [
      "Enter the number of people: 100\n",
      "Enter the number of buses: 5\n",
      "Enter the number of seats per bus: 50\n",
      "no more buses required\n",
      "Thank you\n"
     ]
    }
   ],
   "source": [
    "p=int(raw_input(\"Enter the number of people: \"))\n",
    "b=int(raw_input(\"Enter the number of buses: \"))\n",
    "s=int(raw_input(\"Enter the number of seats per bus: \"))\n",
    "a=p/s\n",
    "if a>b:\n",
    "    print \"more buses required\"\n",
    "else:\n",
    "    print \"no more buses required\"\n",
    "print \"Thank you\""
   ]
  },
  {
   "cell_type": "code",
   "execution_count": 249,
   "metadata": {},
   "outputs": [
    {
     "name": "stdout",
     "output_type": "stream",
     "text": [
      "Enter Tempurature in Celcius:32\n",
      "Tempurature in Fahrenheit: 89.6\n"
     ]
    }
   ],
   "source": [
    "#Convert Celcius to Fahrenheit\n",
    "c=int(raw_input(\"Enter Tempurature in Celcius:\"))\n",
    "c1=(c*1.8)+32\n",
    "print \"Tempurature in Fahrenheit:\",c1"
   ]
  },
  {
   "cell_type": "code",
   "execution_count": 244,
   "metadata": {},
   "outputs": [
    {
     "name": "stdout",
     "output_type": "stream",
     "text": [
      "Enter Tempurature in Fahrenheit:90\n",
      "Tempurature in celsius: 32.22\n"
     ]
    }
   ],
   "source": [
    "#Convert Fahrenheit to Celcius\n",
    "f=int(raw_input(\"Enter Tempurature in Fahrenheit:\"))\n",
    "f1=(f-32)/1.8  \n",
    "print \"Tempurature in celsius:\", \"%.2f\"%(f1)"
   ]
  },
  {
   "cell_type": "code",
   "execution_count": 12,
   "metadata": {},
   "outputs": [
    {
     "name": "stdout",
     "output_type": "stream",
     "text": [
      "trinath\n"
     ]
    }
   ],
   "source": [
    "s='TRINATH'\n",
    "print s.lower()"
   ]
  },
  {
   "cell_type": "code",
   "execution_count": 11,
   "metadata": {},
   "outputs": [
    {
     "name": "stdout",
     "output_type": "stream",
     "text": [
      "TRINATH\n"
     ]
    }
   ],
   "source": [
    "s='trinath'\n",
    "print s.upper()"
   ]
  },
  {
   "cell_type": "code",
   "execution_count": 28,
   "metadata": {},
   "outputs": [
    {
     "name": "stdout",
     "output_type": "stream",
     "text": [
      "enter the distance in km: 2\n",
      "Given distance in cm: 200000\n",
      "Given distance in meters: 2000\n",
      "Given distance in feets: 6561.68\n"
     ]
    }
   ],
   "source": [
    "dist=raw_input(\"enter the distance in km: \")\n",
    "value=int(dist)\n",
    "print \"Given distance in cm:\", value*100000\n",
    "print \"Given distance in meters:\", value*1000\n",
    "print \"Given distance in feets:\", value*3280.84"
   ]
  },
  {
   "cell_type": "code",
   "execution_count": 31,
   "metadata": {},
   "outputs": [
    {
     "name": "stdout",
     "output_type": "stream",
     "text": [
      "enter disk size in GB: 100\n",
      "Given size in MB: 102400\n",
      "Given size in KB: 104857600\n"
     ]
    }
   ],
   "source": [
    "size=raw_input(\"enter disk size in GB: \")\n",
    "value=int(size)\n",
    "print \"Given size in MB:\", value*1024\n",
    "print \"Given size in KB:\", (value*1024)*1024"
   ]
  },
  {
   "cell_type": "code",
   "execution_count": 78,
   "metadata": {},
   "outputs": [
    {
     "name": "stdout",
     "output_type": "stream",
     "text": [
      "Person details:\n",
      "Name: Trinath Age: 35 Height: 5.7 Weight: 70.9876\n"
     ]
    }
   ],
   "source": [
    "name=\"Trinath\"\n",
    "age=35\n",
    "height=5.7\n",
    "weight=70.9876\n",
    "# Person details:\n",
    "#Name:name of the person, Age:age of the person, Height:height of the person\n",
    "print \"Person details:\\nName:\",name, \"Age:\",age, \"Height:\",height, \"Weight:\",weight"
   ]
  },
  {
   "cell_type": "code",
   "execution_count": 65,
   "metadata": {},
   "outputs": [
    {
     "name": "stdout",
     "output_type": "stream",
     "text": [
      "Person details:\n",
      "Name:Trinath, Age:35, Height:5.78, Weight:70.55999\n"
     ]
    }
   ],
   "source": [
    "name=\"Trinath\"\n",
    "age=35\n",
    "height=5.78\n",
    "weight=70.55999\n",
    "# Person details:\n",
    "#Name:name of the person, Age:age of the person, Height:height of the person\n",
    "print \"Person details:\\nName:\"+name+\", \" \"Age:\"+str(age)+\", \" \"Height:\"+str(height)+\", \" \"Weight:\"+str(weight)"
   ]
  },
  {
   "cell_type": "code",
   "execution_count": 73,
   "metadata": {},
   "outputs": [
    {
     "name": "stdout",
     "output_type": "stream",
     "text": [
      "Person details:\n",
      "Name:Trinath, Age:35, Height:5.8, Weight:70.56\n"
     ]
    }
   ],
   "source": [
    "name=\"Trinath\"\n",
    "age=35\n",
    "height=5.78\n",
    "weight=70.55999\n",
    "# Person details:\n",
    "#Name:name of the person, Age:age of the person, Height:height of the person\n",
    "print \"Person details:\\nName:%s, Age:%d, Height:%.1f, Weight:%.2f\" %(name,age,height,weight)"
   ]
  },
  {
   "cell_type": "code",
   "execution_count": 81,
   "metadata": {},
   "outputs": [
    {
     "name": "stdout",
     "output_type": "stream",
     "text": [
      "Please enter Name: Tri\n",
      "please enter age: 35\n",
      "Please enter height: 5.789\n",
      "Please enter weight: 70.567\n"
     ]
    },
    {
     "ename": "ValueError",
     "evalue": "invalid literal for int() with base 10: '5.789'",
     "output_type": "error",
     "traceback": [
      "\u001b[0;31m---------------------------------------------------------------------------\u001b[0m",
      "\u001b[0;31mValueError\u001b[0m                                Traceback (most recent call last)",
      "\u001b[0;32m<ipython-input-81-d7a6585e0df0>\u001b[0m in \u001b[0;36m<module>\u001b[0;34m()\u001b[0m\n\u001b[1;32m      5\u001b[0m \u001b[0;31m# Person details:\u001b[0m\u001b[0;34m\u001b[0m\u001b[0;34m\u001b[0m\u001b[0m\n\u001b[1;32m      6\u001b[0m \u001b[0;31m#Name:name of the person, Age:age of the person, Height:height of the person\u001b[0m\u001b[0;34m\u001b[0m\u001b[0;34m\u001b[0m\u001b[0m\n\u001b[0;32m----> 7\u001b[0;31m \u001b[0;32mprint\u001b[0m \u001b[0;34m\"Person details:\\nName:%s, Age:%d, Height:%.1f, Weight:%.2f\"\u001b[0m \u001b[0;34m%\u001b[0m\u001b[0;34m(\u001b[0m\u001b[0mname\u001b[0m\u001b[0;34m,\u001b[0m\u001b[0mage\u001b[0m\u001b[0;34m,\u001b[0m\u001b[0mint\u001b[0m\u001b[0;34m(\u001b[0m\u001b[0mheight\u001b[0m\u001b[0;34m)\u001b[0m\u001b[0;34m,\u001b[0m\u001b[0mint\u001b[0m\u001b[0;34m(\u001b[0m\u001b[0mweight\u001b[0m\u001b[0;34m)\u001b[0m\u001b[0;34m)\u001b[0m\u001b[0;34m\u001b[0m\u001b[0m\n\u001b[0m",
      "\u001b[0;31mValueError\u001b[0m: invalid literal for int() with base 10: '5.789'"
     ]
    }
   ],
   "source": [
    "name=raw_input(\"Please enter Name: \")\n",
    "age=raw_input('please enter age: ')\n",
    "height=raw_input(\"Please enter height: \")\n",
    "weight=raw_input(\"Please enter weight: \")\n",
    "# Person details:\n",
    "#Name:name of the person, Age:age of the person, Height:height of the person\n",
    "print \"Person details:\\nName:%s, Age:%d, Height:%.1f, Weight:%.2f\" %(name,age,int(height),int(weight))"
   ]
  },
  {
   "cell_type": "code",
   "execution_count": 10,
   "metadata": {},
   "outputs": [
    {
     "name": "stdout",
     "output_type": "stream",
     "text": [
      "Please enter Male/Female: Male\n",
      "Enter your Name: Satya\n",
      "Enter your age: 38\n",
      "Enter your height in feet's: 5.8\n",
      "Enter your weight in Kg's: 65\n",
      "Person details:\n",
      "Name:Satya, Age:38, Height:5.8, Weight:65.00, Sex:male\n",
      "The BIM value is:20.80\n",
      "you are fit!!\n"
     ]
    }
   ],
   "source": [
    "#!/user/bin/python\n",
    "#BMI Calculator\n",
    "\"\"\"\n",
    "BMI <18.5 means underweight\n",
    "BMI 18.5 -to 24.9 means you ideal weight\n",
    "BMI 25 to 29.9 means over weight\n",
    "BMI >= 30 means obese\n",
    "\"\"\"\n",
    "g=raw_input(\"Please enter Male/Female: \")\n",
    "gender=g.lower()\n",
    "name=raw_input(\"Enter your Name: \")\n",
    "age=int(raw_input(\"Enter your age: \"))\n",
    "height=float(raw_input(\"Enter your height in feet's: \"))\n",
    "weight=int(raw_input(\"Enter your weight in Kg's: \"))\n",
    "mm=height*0.3048\n",
    "cm=height*30.48\n",
    "B=weight/mm**2\n",
    "BMI=float(B)\n",
    "#Person details:\n",
    "#Name:name of the person, Age:age of the person, Height:height of the person\n",
    "print \"Person details:\\nName:%s, Age:%d, Height:%.1f, Weight:%.2f, Sex:%s\" %(name,age,height,weight,gender)\n",
    "print \"The BIM value is:%.2f\"%BMI\n",
    "if gender == \"male\":\n",
    "    if BMI < 18.5:\n",
    "        print \"you are underweight!!\"\n",
    "    elif BMI >= 18.5 and BMI <= 24.9:\n",
    "        print \"you are fit!!\"\n",
    "    elif BMI >= 25 and BMI <= 29.9:\n",
    "        print \"you are over weight!!\"\n",
    "    elif BMI >= 30:\n",
    "        print \"you are obse!!\"\n",
    "if gender == \"female\":\n",
    "    if BMI < 17.5:\n",
    "        print \"you are underweight!!\"\n",
    "    elif BMI >= 17.5 and BMI <= 23.9:\n",
    "        print \"you are fit!!\"\n",
    "    elif BMI >= 24 and BMI <= 28.9:\n",
    "        print \"you are over weight!!\"\n",
    "    elif BMI >= 29:\n",
    "        print \"you are obse!!\""
   ]
  },
  {
   "cell_type": "code",
   "execution_count": 129,
   "metadata": {},
   "outputs": [
    {
     "name": "stdout",
     "output_type": "stream",
     "text": [
      "enter a value: 8\n",
      "(8, 'is not a prime number')\n"
     ]
    }
   ],
   "source": [
    "nu=raw_input(\"enter a value: \")\n",
    "num=int(nu)\n",
    "if num > 1:\n",
    "    for i in range(2,num**2):\n",
    "        if (num % i) == 0:\n",
    "            print(num,\"is not a prime number\")\n",
    "            break\n",
    "    else:\n",
    "        print(num,\"is a prime number\")"
   ]
  },
  {
   "cell_type": "code",
   "execution_count": 182,
   "metadata": {},
   "outputs": [
    {
     "name": "stdout",
     "output_type": "stream",
     "text": [
      "\n",
      "gone mad!!\n"
     ]
    }
   ],
   "source": [
    "input_str=raw_input()\n",
    "for i in input_str:\n",
    "    if  i.isdigit():\n",
    "        print i,\"is number!!\"\n",
    "    elif  i.islower():\n",
    "        print i,\"is lower letters!!\"\n",
    "    elif i.isupper():\n",
    "        print i,\"is upper letters!!\"\n",
    "else:\n",
    "    print \"gone mad!!\""
   ]
  },
  {
   "cell_type": "code",
   "execution_count": 196,
   "metadata": {},
   "outputs": [
    {
     "name": "stdout",
     "output_type": "stream",
     "text": [
      "Enter the number: 55\n",
      "55 odd number\n"
     ]
    }
   ],
   "source": [
    "#7. ake number from the user decide whether it is even or odd.\n",
    "num=raw_input(\"Enter the number: \")\n",
    "if (int(num) % 2) == 0:\n",
    "    print num,\"even number\"\n",
    "else:\n",
    "    print num,\"odd number\""
   ]
  },
  {
   "cell_type": "code",
   "execution_count": 261,
   "metadata": {},
   "outputs": [
    {
     "name": "stdout",
     "output_type": "stream",
     "text": [
      "Enter a number:20\n",
      "The given number is a possitive number!!\n"
     ]
    }
   ],
   "source": [
    "n_num=int(raw_input(\"Enter a number:\"))\n",
    "if n_num>0:\n",
    "    print \"The given number is a possitive number!!\"\n",
    "else:\n",
    "    print \"The given number is negative number!!\""
   ]
  },
  {
   "cell_type": "code",
   "execution_count": 206,
   "metadata": {},
   "outputs": [
    {
     "name": "stdout",
     "output_type": "stream",
     "text": [
      "enter the number: \n",
      "Error: no input provided!!\n"
     ]
    }
   ],
   "source": [
    "#take a string from the user print the length. if the user not given anything then show an error message\n",
    "len_input=raw_input(\"enter the number: \")\n",
    "if len_input:\n",
    "    print len(len_input)\n",
    "else:\n",
    "    print \"Error: no input provided!!\""
   ]
  },
  {
   "cell_type": "code",
   "execution_count": 216,
   "metadata": {},
   "outputs": [
    {
     "name": "stdout",
     "output_type": "stream",
     "text": [
      "Floor wise items:\n",
      "\t1. Kids\n",
      "\t2. Men\n",
      "\t3. Women\n",
      "please select Floor Number:3\n",
      "3rd floor is for Women section!!\n",
      "thanks for visting\n"
     ]
    }
   ],
   "source": [
    "print (\"Floor wise items:\\n\\t1. Kids\\n\\t2. Men\\n\\t3. Women\")\n",
    "b=raw_input(\"please select Floor Number:\")\n",
    "if b:\n",
    "    if b==\"1\":\n",
    "        print \"1st floor is for Kids section!!\"\n",
    "    elif b==\"2\":\n",
    "        print \"2nd floor is for Men's section!!\"\n",
    "    elif b==\"3\":\n",
    "        print \"3rd floor is for Women section!!\"\n",
    "    elif b>3:\n",
    "        print \"Error: invalid input\"\n",
    "print \"thanks for visting\""
   ]
  },
  {
   "cell_type": "code",
   "execution_count": 262,
   "metadata": {},
   "outputs": [
    {
     "name": "stdout",
     "output_type": "stream",
     "text": [
      "enter something here: are you from orissa?\n",
      "what to look from above: orissa\n",
      "orissa is in your sentence\n"
     ]
    }
   ],
   "source": [
    "#write a program to chcek given substring is there in actual string or not?\n",
    "smth=raw_input(\"enter something here: \")\n",
    "ser=raw_input(\"what to look from above: \")\n",
    "if ser in smth:\n",
    "    print ser,\"is in your sentence\"\n",
    "else:\n",
    "    print ser,\"not in your sentence\""
   ]
  },
  {
   "cell_type": "code",
   "execution_count": 278,
   "metadata": {},
   "outputs": [
    {
     "name": "stdout",
     "output_type": "stream",
     "text": [
      "Enter first number:4\n",
      "Enter Secund number:6\n",
      "Enter Third number:3\n",
      "The big number between 4 6 and 3 is 6\n"
     ]
    }
   ],
   "source": [
    "a=int(raw_input(\"Enter first number:\"))\n",
    "b=int(raw_input(\"Enter Secund number:\"))\n",
    "c=int(raw_input(\"Enter Third number:\"))\n",
    "if a>=b and a>=c:\n",
    "    big = a\n",
    "elif b>=a and b>=c:\n",
    "    big = b\n",
    "else:\n",
    "    big = c\n",
    "    \n",
    "print \"The big number between\",a,b,\"and\",c,\"is\",big"
   ]
  },
  {
   "cell_type": "code",
   "execution_count": 291,
   "metadata": {},
   "outputs": [
    {
     "name": "stdout",
     "output_type": "stream",
     "text": [
      "Please enter gender: Female\n",
      "Please enter age: 17\n",
      "****not fit for marriage****\n"
     ]
    }
   ],
   "source": [
    "gender=raw_input(\"Please enter gender: \")\n",
    "age=int(raw_input(\"Please enter age: \"))\n",
    "g=gender.lower()\n",
    "if g >='female' and age >= 18:\n",
    "    print \"eligible for merrage\"\n",
    "elif g >='male' and age >= 22:\n",
    "    print \"eligible for merrage\"\n",
    "else:\n",
    "    print \"****not fit for marriage****\""
   ]
  },
  {
   "cell_type": "code",
   "execution_count": 302,
   "metadata": {},
   "outputs": [
    {
     "name": "stdout",
     "output_type": "stream",
     "text": [
      "1. Windows\n",
      "2. Linux\n",
      "3. Mac\n",
      "Enter option: 4\n",
      "Please go home\n"
     ]
    }
   ],
   "source": [
    "print (\"1. Windows\\n2. Linux\\n3. Mac\")\n",
    "op=raw_input(\"Enter option: \")\n",
    "if op == \"1\":\n",
    "    print \"go to first floor to buy Windows OS!!\"\n",
    "elif op == \"2\":\n",
    "    print \"go to second floor to buy Linux OS!!\"\n",
    "elif op == \"3\":\n",
    "    print \"go to third floor to buy Mac OS!!\"\n",
    "else:\n",
    "    print \"Please go home\"\n"
   ]
  },
  {
   "cell_type": "code",
   "execution_count": 30,
   "metadata": {},
   "outputs": [
    {
     "name": "stdout",
     "output_type": "stream",
     "text": [
      "Enter first number50\n",
      "Enter second number3\n",
      "50 is not divisible by 3\n"
     ]
    }
   ],
   "source": [
    "v1=int(raw_input(\"Enter first number\"))\n",
    "v2=int(raw_input(\"Enter second number\"))\n",
    "dev=v1%v2\n",
    "if dev==0:\n",
    "    print v1,\"is divisible by\",v2\n",
    "else:\n",
    "    print v1,\"is not divisible by\",v2"
   ]
  },
  {
   "cell_type": "code",
   "execution_count": 25,
   "metadata": {},
   "outputs": [
    {
     "name": "stdout",
     "output_type": "stream",
     "text": [
      "Evaluating system for people in India:\n",
      "\t1. Marriage(min:21)\n",
      "\t2. Voting(min: 18)\n",
      "\t3. Govt Job application(min: 18, max:35)\n"
     ]
    }
   ],
   "source": [
    "#evaluating system for people in India\n",
    "#    1. Marriage(min:21)\n",
    "#    2. Voting(min: 18)\n",
    "#    3. Govt Job application(min: 18, max:35)\n",
    "#Enter option:\n",
    "#Enter an age:\n",
    "print \"Evaluating system for people in India:\\n\\t1. Marriage(min:21)\\n\\t2. Voting(min: 18)\\n\\t\\\n",
    "3. Govt Job application(min: 18, max:35)\""
   ]
  },
  {
   "cell_type": "code",
   "execution_count": 23,
   "metadata": {},
   "outputs": [
    {
     "name": "stdout",
     "output_type": "stream",
     "text": [
      "enter the number: 10\n",
      "1 divisible factor of 10\n",
      "2 divisible factor of 10\n",
      "5 divisible factor of 10\n",
      "10 divisible factor of 10\n"
     ]
    }
   ],
   "source": [
    "#10\n",
    "# 1,10-> 10%1, 10%2, 10%3-----> 10%10\n",
    "\"\"\"\n",
    "take number:\n",
    "iterate from  1 to n\n",
    "inside loop need to check wheher the interation valus is devided by given n number:\n",
    "\"\"\"\n",
    "n=int(raw_input(\"enter the number: \"))\n",
    "i=1\n",
    "while i<=n:\n",
    "    if n%i==0:\n",
    "        print i, \"divisible factor of\", n\n",
    "    i=i+1"
   ]
  },
  {
   "cell_type": "code",
   "execution_count": 14,
   "metadata": {},
   "outputs": [
    {
     "data": {
      "text/plain": [
       "[0, 3, 6, 9, 12, 15]"
      ]
     },
     "execution_count": 14,
     "metadata": {},
     "output_type": "execute_result"
    }
   ],
   "source": [
    "range(0,16,3)"
   ]
  },
  {
   "cell_type": "code",
   "execution_count": 10,
   "metadata": {},
   "outputs": [
    {
     "data": {
      "text/plain": [
       "'\\ncost=300\\ndiscount=10%\\ndelivery=23\\nprofit=20\\nsales price:\\n'"
      ]
     },
     "execution_count": 10,
     "metadata": {},
     "output_type": "execute_result"
    }
   ],
   "source": [
    "\"\"\"\n",
    "cost=300\n",
    "discount=10%\n",
    "delivery=23\n",
    "profit=20\n",
    "sales price:\n",
    "\"\"\""
   ]
  },
  {
   "cell_type": "code",
   "execution_count": 29,
   "metadata": {},
   "outputs": [
    {
     "data": {
      "text/plain": [
       "97"
      ]
     },
     "execution_count": 29,
     "metadata": {},
     "output_type": "execute_result"
    }
   ],
   "source": [
    "ord(\"a\")"
   ]
  },
  {
   "cell_type": "code",
   "execution_count": 28,
   "metadata": {},
   "outputs": [
    {
     "data": {
      "text/plain": [
       "122"
      ]
     },
     "execution_count": 28,
     "metadata": {},
     "output_type": "execute_result"
    }
   ],
   "source": [
    "ord(\"z\")"
   ]
  },
  {
   "cell_type": "code",
   "execution_count": 38,
   "metadata": {},
   "outputs": [
    {
     "name": "stdout",
     "output_type": "stream",
     "text": [
      "Enter string:AAAAA\n",
      "no small letters found in your input!!\n"
     ]
    }
   ],
   "source": [
    "s=raw_input(\"Enter string:\")\n",
    "for i in s:\n",
    "    if ord(i)>=97 and ord(i)<=122:\n",
    "        print \"it continas small letters\"\n",
    "        break\n",
    "else:\n",
    "    print \"no small letters found in your input!!\""
   ]
  },
  {
   "cell_type": "code",
   "execution_count": 37,
   "metadata": {},
   "outputs": [
    {
     "name": "stdout",
     "output_type": "stream",
     "text": [
      "Enter number:asdfadsf\n",
      "no number found in your input!!\n"
     ]
    }
   ],
   "source": [
    "s=raw_input(\"Enter number:\")\n",
    "for i in s:\n",
    "    if ord(i)>=48 and ord(i)<=57:\n",
    "        print \"it continas digits\"\n",
    "        break\n",
    "else:\n",
    "    print \"no number found in your input!!\""
   ]
  },
  {
   "cell_type": "code",
   "execution_count": 9,
   "metadata": {},
   "outputs": [
    {
     "name": "stdout",
     "output_type": "stream",
     "text": [
      "Enter something: ADFADSF\n",
      "it doesn't have special characters:\n"
     ]
    }
   ],
   "source": [
    "#find special characters in the string???????????\n",
    "s=raw_input(\"Enter something: \")\n",
    "for i in s:\n",
    "    if ord(i)>=48 and ord(i)<=57 or ord(i)>=97 and ord(i)<=122 or ord(i)>=65 and ord(i)<=90:\n",
    "        print \"it doesn't have special characters:\"\n",
    "        break\n",
    "else:\n",
    "    print \"special characters found in your input!!\""
   ]
  },
  {
   "cell_type": "code",
   "execution_count": 16,
   "metadata": {},
   "outputs": [
    {
     "name": "stdout",
     "output_type": "stream",
     "text": [
      "Enter somethingADSFASDFADSF223452345%%%aADSF\n",
      "contains small letter\n"
     ]
    }
   ],
   "source": [
    "#Check if any small letters in the statement:\n",
    "t=raw_input(\"Enter something\")\n",
    "c=0\n",
    "for i in t:\n",
    "    if ord(i)>=97 and ord(i)<=122:\n",
    "        c=c+1\n",
    "        break\n",
    "if c==0:\n",
    "    print \"no small letter\"\n",
    "else:\n",
    "    print \"contains small letter\""
   ]
  },
  {
   "cell_type": "code",
   "execution_count": 10,
   "metadata": {},
   "outputs": [
    {
     "name": "stdout",
     "output_type": "stream",
     "text": [
      "enter the any number: 15\n",
      "3\n",
      "5\n",
      "7\n",
      "11\n",
      "13\n",
      "17\n",
      "Done\n"
     ]
    }
   ],
   "source": [
    "# To check the given n numbers are prime numbers:\n",
    "n=int(raw_input(\"enter the any number: \"))\n",
    "p=3\n",
    "while p<=n:\n",
    "    for i in range(2, p):\n",
    "        if p%i==0:\n",
    "            p=p+1\n",
    "    print p\n",
    "    p=p+1\n",
    "print \"Done\""
   ]
  },
  {
   "cell_type": "code",
   "execution_count": 33,
   "metadata": {},
   "outputs": [
    {
     "name": "stdout",
     "output_type": "stream",
     "text": [
      "enter a number: 10\n",
      "2\n",
      "its NOT prime number\n"
     ]
    }
   ],
   "source": [
    "#?why loop is required for this????\n",
    "n=int(raw_input(\"enter a number: \"))\n",
    "for i in range(2,n):\n",
    "    print i\n",
    "    if n%i==0:\n",
    "        print \"its NOT prime number\"\n",
    "        break\n",
    "else:\n",
    "    print \"its prime number:\""
   ]
  },
  {
   "cell_type": "code",
   "execution_count": null,
   "metadata": {},
   "outputs": [],
   "source": [
    "n=int(raw_input)()\n",
    "for i in range(10,70):\n",
    "        if n%i==0:\n",
    "        print \"True\"\n",
    "        break\n",
    "else:\n",
    "    print \"not ture:\""
   ]
  },
  {
   "cell_type": "code",
   "execution_count": 41,
   "metadata": {},
   "outputs": [
    {
     "name": "stdout",
     "output_type": "stream",
     "text": [
      "10==50\n"
     ]
    }
   ],
   "source": [
    "a=10\n",
    "b=50\n",
    "print \"%s==%s\" %(a,b)"
   ]
  },
  {
   "cell_type": "code",
   "execution_count": 39,
   "metadata": {},
   "outputs": [
    {
     "name": "stdout",
     "output_type": "stream",
     "text": [
      "Enter the value: 12\n",
      "10==12\n",
      "20==12\n",
      "30==12\n",
      "40==12\n",
      "50==12\n",
      "60==12\n",
      "70==12\n",
      "not matching\n"
     ]
    }
   ],
   "source": [
    "# [10,20,30,40,50,60,70]\n",
    "# 12\n",
    "\"\"\"\n",
    "10==12\n",
    "20==12\n",
    "30==12\n",
    "element not found.\n",
    "# 20\n",
    "10==20\n",
    "20==20: element found\n",
    "\"\"\"\n",
    "n=int(raw_input(\"Enter the value: \"))\n",
    "for i in (10,20,30,40,50,60,70):\n",
    "    print \"%s==%s\"%(i,n)\n",
    "    if i==n:\n",
    "        print \"matching\"\n",
    "        break\n",
    "else:\n",
    "    print \"not matching\"\n"
   ]
  },
  {
   "cell_type": "code",
   "execution_count": 48,
   "metadata": {},
   "outputs": [
    {
     "data": {
      "text/plain": [
       "[10, 20, 30, 40, 50, 60, 70, 80, 90]"
      ]
     },
     "execution_count": 48,
     "metadata": {},
     "output_type": "execute_result"
    }
   ],
   "source": [
    "range(10,100,10)"
   ]
  },
  {
   "cell_type": "code",
   "execution_count": 49,
   "metadata": {},
   "outputs": [
    {
     "name": "stdout",
     "output_type": "stream",
     "text": [
      "Enter the value: 12\n",
      "10==12\n",
      "20==12\n",
      "30==12\n",
      "40==12\n",
      "50==12\n",
      "60==12\n",
      "70==12\n",
      "80==12\n",
      "90==12\n",
      "not matching\n"
     ]
    }
   ],
   "source": [
    "n=int(raw_input(\"Enter the value: \"))\n",
    "for i in range(10,100,10):\n",
    "    print \"%s==%s\"%(i,n)\n",
    "    if i==n:\n",
    "        print \"matching\"\n",
    "        break\n",
    "else:\n",
    "    print \"not matching\""
   ]
  },
  {
   "cell_type": "code",
   "execution_count": 4,
   "metadata": {},
   "outputs": [
    {
     "name": "stdout",
     "output_type": "stream",
     "text": [
      "48\n"
     ]
    }
   ],
   "source": [
    "print ord(\"0\")"
   ]
  },
  {
   "cell_type": "code",
   "execution_count": 5,
   "metadata": {},
   "outputs": [
    {
     "name": "stdout",
     "output_type": "stream",
     "text": [
      "57\n"
     ]
    }
   ],
   "source": [
    "print ord(\"9\")"
   ]
  },
  {
   "cell_type": "code",
   "execution_count": 1,
   "metadata": {},
   "outputs": [
    {
     "name": "stdout",
     "output_type": "stream",
     "text": [
      "enter number: 5\n",
      "1 \n",
      "1 2 \n",
      "1 2 3 \n",
      "1 2 3 4 \n",
      "1 2 3 4 5 \n"
     ]
    }
   ],
   "source": [
    "n=int(raw_input(\"enter number: \"))\n",
    "for i in range(1,n+1):\n",
    "    for j in range(1,i+1):\n",
    "           print j,\n",
    "    print \"\\r\""
   ]
  },
  {
   "cell_type": "code",
   "execution_count": null,
   "metadata": {},
   "outputs": [],
   "source": []
  }
 ],
 "metadata": {
  "kernelspec": {
   "display_name": "Python 2",
   "language": "python",
   "name": "python2"
  },
  "language_info": {
   "codemirror_mode": {
    "name": "ipython",
    "version": 2
   },
   "file_extension": ".py",
   "mimetype": "text/x-python",
   "name": "python",
   "nbconvert_exporter": "python",
   "pygments_lexer": "ipython2",
   "version": "2.7.15"
  }
 },
 "nbformat": 4,
 "nbformat_minor": 2
}
