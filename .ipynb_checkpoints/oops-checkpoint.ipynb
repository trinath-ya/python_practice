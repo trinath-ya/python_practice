{
 "cells": [
  {
   "cell_type": "code",
   "execution_count": 53,
   "metadata": {},
   "outputs": [
    {
     "name": "stdout",
     "output_type": "stream",
     "text": [
      "('puppy', 5, 'tuppy', 6)\n",
      "puppy is a mammal!\n"
     ]
    }
   ],
   "source": [
    "class Dog:\n",
    "    species = 'mammal'\n",
    "    def __init__(self,name,age):\n",
    "        self.name=name\n",
    "        self.age=age\n",
    "puppy = Dog(\"puppy\", 5)\n",
    "tuppy = Dog(\"tuppy\", 6)\n",
    "print (puppy.name, puppy.age, tuppy.name, tuppy.age)\n",
    "if puppy.species == \"mammal\":\n",
    "    print(\"{0} is a {1}!\".format(puppy.name, puppy.species))"
   ]
  },
  {
   "cell_type": "code",
   "execution_count": 56,
   "metadata": {},
   "outputs": [
    {
     "name": "stdout",
     "output_type": "stream",
     "text": [
      "('puppy', 5, 'tuppy', 6)\n"
     ]
    }
   ],
   "source": [
    "class Dog:\n",
    "    def __init__(self,name,age):\n",
    "        self.name=name\n",
    "        self.age=age\n",
    "puppy = Dog(\"puppy\", 5)\n",
    "tuppy = Dog(\"tuppy\", 6)\n",
    "print (puppy.name, puppy.age, tuppy.name, tuppy.age)"
   ]
  },
  {
   "cell_type": "code",
   "execution_count": 59,
   "metadata": {},
   "outputs": [
    {
     "name": "stdout",
     "output_type": "stream",
     "text": [
      "('puppy', 5, 'tuppy', 6)\n"
     ]
    }
   ],
   "source": [
    "class Dog:\n",
    "    def __init__(self,name,age):\n",
    "        self.name=name\n",
    "        self.age=age\n",
    "    def get(self,name,age):\n",
    "        return self.name,self.age\n",
    "puppy = Dog(\"puppy\", 5)\n",
    "tuppy = Dog(\"tuppy\", 6)\n",
    "print (puppy.name, puppy.age, tuppy.name, tuppy.age)"
   ]
  },
  {
   "cell_type": "code",
   "execution_count": 41,
   "metadata": {},
   "outputs": [
    {
     "name": "stdout",
     "output_type": "stream",
     "text": [
      "Vedha 6974 Sec Khyaathi\n",
      "Jayaram 6973 Hyd Khyaathi\n"
     ]
    }
   ],
   "source": [
    "class Emp:\n",
    "    company_name=\"Khyaathi\"# company_name is a class attribute\n",
    "    def get(self):\n",
    "        pass\n",
    "jay=Emp()\n",
    "jay.name=\"Jayaram\"\n",
    "jay.address=\"Hyd\"\n",
    "jay.id=6973\n",
    "vedha = Emp()\n",
    "vedha.name=\"Vedha\"\n",
    "vedha.address=\"Sec\"\n",
    "vedha.id=6974\n",
    "print vedha.name, vedha.id, vedha.address, vedha.company_name\n",
    "print jay.name, jay.id, jay.address, jay.company_name\n"
   ]
  },
  {
   "cell_type": "code",
   "execution_count": 52,
   "metadata": {},
   "outputs": [
    {
     "name": "stdout",
     "output_type": "stream",
     "text": [
      "Tri 6973 Hyd GE\n",
      "Nath 6974 Sec GE\n"
     ]
    }
   ],
   "source": [
    "class Emp:\n",
    "    company_name=\"GE\"\n",
    "    def __init__(self,name,eid,eadd):\n",
    "        self.name=name\n",
    "        self.eid=eid\n",
    "        self.eadd=eadd\n",
    "tri=Emp(\"Tri\",6973,\"Hyd\")\n",
    "nath=Emp(\"Nath\",6974,\"Sec\")\n",
    "print tri.name, tri.eid, tri.eadd, tri.company_name\n",
    "print nath.name, nath.eid, nath.eadd, nath.company_name"
   ]
  },
  {
   "cell_type": "code",
   "execution_count": null,
   "metadata": {},
   "outputs": [],
   "source": []
  }
 ],
 "metadata": {
  "kernelspec": {
   "display_name": "Python 2",
   "language": "python",
   "name": "python2"
  },
  "language_info": {
   "codemirror_mode": {
    "name": "ipython",
    "version": 2
   },
   "file_extension": ".py",
   "mimetype": "text/x-python",
   "name": "python",
   "nbconvert_exporter": "python",
   "pygments_lexer": "ipython2",
   "version": "2.7.15"
  }
 },
 "nbformat": 4,
 "nbformat_minor": 2
}
