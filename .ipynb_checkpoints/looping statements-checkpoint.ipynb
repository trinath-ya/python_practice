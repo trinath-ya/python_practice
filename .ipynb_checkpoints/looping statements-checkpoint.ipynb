{
 "cells": [
  {
   "cell_type": "code",
   "execution_count": 2,
   "metadata": {},
   "outputs": [
    {
     "name": "stdout",
     "output_type": "stream",
     "text": [
      "st1\n",
      "st2\n",
      "st3\n",
      "st4\n",
      "st5\n"
     ]
    }
   ],
   "source": [
    "#while, for\n",
    "print \"st1\"\n",
    "print \"st2\"\n",
    "print \"st3\"\n",
    "print \"st4\"\n",
    "print \"st5\""
   ]
  },
  {
   "cell_type": "code",
   "execution_count": 6,
   "metadata": {},
   "outputs": [
    {
     "name": "stdout",
     "output_type": "stream",
     "text": [
      "st1\n",
      "st2\n",
      "st3\n",
      "st4\n",
      "st5\n"
     ]
    }
   ],
   "source": [
    "for i in range(1,6):\n",
    "    print \"st\"+str(i)"
   ]
  },
  {
   "cell_type": "code",
   "execution_count": 15,
   "metadata": {},
   "outputs": [
    {
     "name": "stdout",
     "output_type": "stream",
     "text": [
      "0\n",
      "thank you\n"
     ]
    }
   ],
   "source": [
    "i=0\n",
    "if i<10:\n",
    "    print i\n",
    "    i=i+1\n",
    "print \"thank you\""
   ]
  },
  {
   "cell_type": "code",
   "execution_count": 1,
   "metadata": {},
   "outputs": [
    {
     "name": "stdout",
     "output_type": "stream",
     "text": [
      "0\n",
      "1\n",
      "2\n",
      "3\n",
      "4\n",
      "5\n",
      "6\n",
      "7\n",
      "8\n",
      "9\n",
      "thank you\n"
     ]
    }
   ],
   "source": [
    "i=0\n",
    "while i<10:\n",
    "    print i\n",
    "    i=i+1\n",
    "print \"thank you\""
   ]
  },
  {
   "cell_type": "code",
   "execution_count": 3,
   "metadata": {},
   "outputs": [
    {
     "name": "stdout",
     "output_type": "stream",
     "text": [
      "5\n",
      "6\n",
      "7\n",
      "8\n",
      "thank you\n"
     ]
    }
   ],
   "source": [
    "i=5\n",
    "while i<9:\n",
    "    print i\n",
    "    i=i+1\n",
    "print \"thank you\""
   ]
  },
  {
   "cell_type": "code",
   "execution_count": 4,
   "metadata": {},
   "outputs": [
    {
     "name": "stdout",
     "output_type": "stream",
     "text": [
      "True\n"
     ]
    }
   ],
   "source": [
    "l=[10,20,30,40,50]\n",
    "print 20 in l"
   ]
  },
  {
   "cell_type": "code",
   "execution_count": 6,
   "metadata": {},
   "outputs": [
    {
     "name": "stdout",
     "output_type": "stream",
     "text": [
      "10\n",
      "50\n",
      "23\n",
      "35\n"
     ]
    }
   ],
   "source": [
    "#break, continue, else\n",
    "inp=10\n",
    "l=[10,50,23,35]\n",
    "for i in l:\n",
    "    print i"
   ]
  },
  {
   "cell_type": "code",
   "execution_count": 11,
   "metadata": {},
   "outputs": [
    {
     "name": "stdout",
     "output_type": "stream",
     "text": [
      "length 4\n",
      "10\n",
      "50\n",
      "23\n",
      "35\n"
     ]
    }
   ],
   "source": [
    "l=[10,50,23,35]\n",
    "i=0\n",
    "print \"length\",len(l)\n",
    "while i<len(l):\n",
    "    print l[i]\n",
    "    i=i+1"
   ]
  },
  {
   "cell_type": "code",
   "execution_count": 16,
   "metadata": {},
   "outputs": [
    {
     "name": "stdout",
     "output_type": "stream",
     "text": [
      "element 4 found\n",
      "element 4 found\n"
     ]
    }
   ],
   "source": [
    "l=[4,10,50,23,35,4]\n",
    "inp=4\n",
    "for i in l:\n",
    "    if i==inp:\n",
    "        print \"element %s found\"%inp"
   ]
  },
  {
   "cell_type": "code",
   "execution_count": 38,
   "metadata": {},
   "outputs": [
    {
     "name": "stdout",
     "output_type": "stream",
     "text": [
      "4 found 3 times!!\n"
     ]
    }
   ],
   "source": [
    "l=[4,10,50,4,23,35,4]\n",
    "inp=4\n",
    "c=0\n",
    "for i in l:\n",
    "    if inp==i:\n",
    "        c=c+1\n",
    "print \"%s found %s times!!\"%(inp,c)"
   ]
  },
  {
   "cell_type": "code",
   "execution_count": 25,
   "metadata": {},
   "outputs": [
    {
     "name": "stdout",
     "output_type": "stream",
     "text": [
      "4 found 3 times\n"
     ]
    }
   ],
   "source": [
    "#count function used for above object.\n",
    "l=[4,10,50,4,23,35,4]\n",
    "inp=4\n",
    "c=l.count(inp)\n",
    "print \"%s found %s times\"%(inp,c)"
   ]
  },
  {
   "cell_type": "code",
   "execution_count": 39,
   "metadata": {},
   "outputs": [
    {
     "name": "stdout",
     "output_type": "stream",
     "text": [
      "40 found 0 times!!\n"
     ]
    }
   ],
   "source": [
    "l=[4,10,50,4,23,10,35,4]\n",
    "inp=40\n",
    "c=0\n",
    "for i in l:\n",
    "    if inp==i:\n",
    "        c=c+1\n",
    "print \"%s found %s times!!\"%(inp,c)"
   ]
  },
  {
   "cell_type": "code",
   "execution_count": 40,
   "metadata": {},
   "outputs": [
    {
     "name": "stdout",
     "output_type": "stream",
     "text": [
      "40 not found in the list\n"
     ]
    }
   ],
   "source": [
    "l=[4,10,50,4,23,10,35,4]\n",
    "inp=40\n",
    "c=0\n",
    "for i in l:\n",
    "    if inp==i:\n",
    "        c=c+1\n",
    "if c==0:\n",
    "    print \"%s not found in the list\"%inp\n",
    "else:\n",
    "    print \"%s found %s times!!\"%(inp,c)"
   ]
  },
  {
   "cell_type": "code",
   "execution_count": 47,
   "metadata": {},
   "outputs": [
    {
     "name": "stdout",
     "output_type": "stream",
     "text": [
      "4\n",
      "10\n",
      "50\n",
      "4\n",
      "23\n",
      "10\n",
      "35\n",
      "4\n",
      "4 found\n"
     ]
    }
   ],
   "source": [
    "l=[4,10,50,4,23,10,35,4]\n",
    "inp=4\n",
    "c=0\n",
    "for i in l:\n",
    "    print i\n",
    "    if inp==i:\n",
    "        c=c+1\n",
    "if c==0:\n",
    "    print \"%s not found in the list\"%inp\n",
    "else:\n",
    "    print \"%s found\"%(inp)"
   ]
  },
  {
   "cell_type": "code",
   "execution_count": 50,
   "metadata": {},
   "outputs": [
    {
     "name": "stdout",
     "output_type": "stream",
     "text": [
      "4\n",
      "10\n",
      "50\n",
      "50 found\n"
     ]
    }
   ],
   "source": [
    "l=[4,10,50,4,23,10,35,50,4]\n",
    "inp=50\n",
    "c=0\n",
    "for i in l:\n",
    "    print i\n",
    "    if inp==i:\n",
    "        c=c+1\n",
    "        break\n",
    "if c==0:\n",
    "    print \"%s not found in the list\"%inp\n",
    "else:\n",
    "    print \"%s found\"%(inp)"
   ]
  },
  {
   "cell_type": "code",
   "execution_count": 51,
   "metadata": {},
   "outputs": [
    {
     "name": "stdout",
     "output_type": "stream",
     "text": [
      "program started\n",
      "i is out side the loop: 0\n",
      "program ended\n"
     ]
    }
   ],
   "source": [
    "print \"program started\"\n",
    "i=0\n",
    "while i>10:\n",
    "    print i\n",
    "    break\n",
    "    i=i+1\n",
    "print \"i is out side the loop:\",i\n",
    "print \"program ended\""
   ]
  },
  {
   "cell_type": "code",
   "execution_count": 52,
   "metadata": {},
   "outputs": [
    {
     "name": "stdout",
     "output_type": "stream",
     "text": [
      "program started\n",
      "0\n",
      "i is out side the loop: 0\n",
      "program ended\n"
     ]
    }
   ],
   "source": [
    "print \"program started\"\n",
    "i=0\n",
    "while i<5:\n",
    "    print i\n",
    "    break\n",
    "    i=i+1\n",
    "print \"i is out side the loop:\",i\n",
    "print \"program ended\""
   ]
  },
  {
   "cell_type": "code",
   "execution_count": 55,
   "metadata": {},
   "outputs": [
    {
     "name": "stdout",
     "output_type": "stream",
     "text": [
      "program started\n",
      "0\n",
      "i is out side the loop: 1\n",
      "program ended\n"
     ]
    }
   ],
   "source": [
    "print \"program started\"\n",
    "i=0\n",
    "while i<5:\n",
    "    print i\n",
    "    i=i+1\n",
    "    break\n",
    "print \"i is out side the loop:\",i\n",
    "print \"program ended\""
   ]
  },
  {
   "cell_type": "code",
   "execution_count": 58,
   "metadata": {},
   "outputs": [
    {
     "name": "stdout",
     "output_type": "stream",
     "text": [
      "program started\n",
      "1\n",
      "i is out side the loop: 1\n",
      "program ended\n"
     ]
    }
   ],
   "source": [
    "print \"program started\"\n",
    "i=0\n",
    "while i<5:\n",
    "    i=i+1\n",
    "    print i\n",
    "    break\n",
    "print \"i is out side the loop:\",i\n",
    "print \"program ended\""
   ]
  },
  {
   "cell_type": "code",
   "execution_count": 2,
   "metadata": {},
   "outputs": [
    {
     "name": "stdout",
     "output_type": "stream",
     "text": [
      "program started\n",
      "0\n",
      "1\n",
      "2\n",
      "3\n",
      "i is out side the loop: 4\n",
      "program ended\n"
     ]
    }
   ],
   "source": [
    "print \"program started\"\n",
    "i=0\n",
    "while i<5:\n",
    "    print i\n",
    "    i=i+1\n",
    "    if i==4:\n",
    "        break\n",
    "print \"i is out side the loop:\",i\n",
    "print \"program ended\""
   ]
  },
  {
   "cell_type": "code",
   "execution_count": 8,
   "metadata": {},
   "outputs": [
    {
     "name": "stdout",
     "output_type": "stream",
     "text": [
      "program started\n",
      "0\n",
      "1\n",
      "2\n",
      "3\n",
      "4\n",
      "i is out side the loop: 5\n",
      "program ended\n"
     ]
    }
   ],
   "source": [
    "print \"program started\"\n",
    "i=0\n",
    "while i<5:\n",
    "    print i\n",
    "    i=i+1\n",
    "    continue\n",
    "print \"i is out side the loop:\",i\n",
    "print \"program ended\""
   ]
  },
  {
   "cell_type": "code",
   "execution_count": 10,
   "metadata": {},
   "outputs": [
    {
     "name": "stdout",
     "output_type": "stream",
     "text": [
      "program started\n",
      "1\n",
      "2\n",
      "3\n",
      "4\n",
      "5\n",
      "i is out side the loop: 5\n",
      "program ended\n"
     ]
    }
   ],
   "source": [
    "print \"program started\"\n",
    "i=0\n",
    "while i<5:\n",
    "    i=i+1\n",
    "    print i\n",
    "    continue\n",
    "print \"i is out side the loop:\",i\n",
    "print \"program ended\""
   ]
  },
  {
   "cell_type": "code",
   "execution_count": 2,
   "metadata": {},
   "outputs": [
    {
     "name": "stdout",
     "output_type": "stream",
     "text": [
      "program started\n",
      "0\n",
      "1\n",
      "2\n",
      "i is out side the loop: 2\n",
      "program ended\n"
     ]
    }
   ],
   "source": [
    "print \"program started\"\n",
    "i=0\n",
    "while i<5:\n",
    "    print i\n",
    "    if i==2:\n",
    "        break # if its \"continue\" infinite loop\n",
    "    i=i+1\n",
    "print \"i is out side the loop:\",i\n",
    "print \"program ended\""
   ]
  },
  {
   "cell_type": "code",
   "execution_count": 6,
   "metadata": {},
   "outputs": [
    {
     "name": "stdout",
     "output_type": "stream",
     "text": [
      "anil\n",
      "jay\n",
      "vedha\n",
      "trinath\n",
      "sai\n"
     ]
    }
   ],
   "source": [
    "for i in [\"anil\",\"jay\",\"vedha\",\"trinath\",\"sai\"]:\n",
    "    print i"
   ]
  },
  {
   "cell_type": "code",
   "execution_count": 8,
   "metadata": {},
   "outputs": [
    {
     "name": "stdout",
     "output_type": "stream",
     "text": [
      "anil\n",
      "i outside the loop:  anil\n"
     ]
    }
   ],
   "source": [
    "for i in [\"anil\",\"jay\",\"vedha\",\"trinath\",\"sai\"]:\n",
    "    print i\n",
    "    break\n",
    "print \"i outside the loop: \",i"
   ]
  },
  {
   "cell_type": "code",
   "execution_count": 10,
   "metadata": {},
   "outputs": [
    {
     "name": "stdout",
     "output_type": "stream",
     "text": [
      "i outside the loop:  sai\n"
     ]
    }
   ],
   "source": [
    "for i in [\"anil\",\"jay\",\"vedha\",\"trinath\",\"sai\"]:\n",
    "    continue\n",
    "    print i\n",
    "print \"i outside the loop: \",i"
   ]
  },
  {
   "cell_type": "code",
   "execution_count": 11,
   "metadata": {},
   "outputs": [
    {
     "name": "stdout",
     "output_type": "stream",
     "text": [
      "anil\n",
      "jay\n",
      "vedha\n",
      "trinath\n",
      "sai\n",
      "i outside the loop:  sai\n"
     ]
    }
   ],
   "source": [
    "for i in [\"anil\",\"jay\",\"vedha\",\"trinath\",\"sai\"]:\n",
    "    print i\n",
    "    continue\n",
    "print \"i outside the loop: \",i"
   ]
  },
  {
   "cell_type": "code",
   "execution_count": 13,
   "metadata": {},
   "outputs": [
    {
     "name": "stdout",
     "output_type": "stream",
     "text": [
      "age\n",
      "name\n",
      "weight\n"
     ]
    }
   ],
   "source": [
    "d={\"name\":\"Trinath\",\"age\":35,\"weight\":72}\n",
    "for i in d:\n",
    "    print i"
   ]
  },
  {
   "cell_type": "code",
   "execution_count": 17,
   "metadata": {},
   "outputs": [
    {
     "name": "stdout",
     "output_type": "stream",
     "text": [
      "p\n",
      "y\n",
      "t\n",
      "h\n",
      "o\n",
      "n\n"
     ]
    }
   ],
   "source": [
    "for i in \"python\":\n",
    "    print i"
   ]
  },
  {
   "cell_type": "code",
   "execution_count": 18,
   "metadata": {},
   "outputs": [
    {
     "name": "stdout",
     "output_type": "stream",
     "text": [
      "jay\n",
      "trinath\n"
     ]
    }
   ],
   "source": [
    "for i in (\"jay\",\"trinath\"):\n",
    "    print i"
   ]
  },
  {
   "cell_type": "code",
   "execution_count": 19,
   "metadata": {},
   "outputs": [
    {
     "name": "stdout",
     "output_type": "stream",
     "text": [
      "40\n",
      "10\n",
      "20\n",
      "30\n"
     ]
    }
   ],
   "source": [
    "s=set([10,20,30,40])\n",
    "for i in s:\n",
    "    print i"
   ]
  },
  {
   "cell_type": "code",
   "execution_count": 12,
   "metadata": {},
   "outputs": [
    {
     "name": "stdout",
     "output_type": "stream",
     "text": [
      "enter number: 10\n",
      "1\n",
      "2\n",
      "5\n",
      "10\n"
     ]
    }
   ],
   "source": [
    "# 10\n",
    "# 1,10-> 10%1, 10%2, 10%3----10%10\n",
    "\"\"\"\n",
    "take number:\n",
    "iterate formo 1 to n\n",
    "inside loop need to check wheter the iteration value is divid by given n or not\n",
    "\"\"\"\n",
    "n=int(raw_input(\"enter number: \"))\n",
    "i=1\n",
    "while i<=n:\n",
    "    if n%i==0:\n",
    "        print i\n",
    "    i=i+1\n"
   ]
  },
  {
   "cell_type": "code",
   "execution_count": 13,
   "metadata": {},
   "outputs": [
    {
     "data": {
      "text/plain": [
       "[1, 2, 3, 4, 5, 6, 7, 8, 9]"
      ]
     },
     "execution_count": 13,
     "metadata": {},
     "output_type": "execute_result"
    }
   ],
   "source": [
    "range(1,10)"
   ]
  },
  {
   "cell_type": "code",
   "execution_count": 14,
   "metadata": {},
   "outputs": [
    {
     "data": {
      "text/plain": [
       "[10, 20, 30, 40, 50, 60, 70, 80, 90]"
      ]
     },
     "execution_count": 14,
     "metadata": {},
     "output_type": "execute_result"
    }
   ],
   "source": [
    "range(10,100,10)"
   ]
  },
  {
   "cell_type": "code",
   "execution_count": 17,
   "metadata": {},
   "outputs": [
    {
     "data": {
      "text/plain": [
       "[1, 11, 21, 31, 41, 51, 61, 71, 81, 91]"
      ]
     },
     "execution_count": 17,
     "metadata": {},
     "output_type": "execute_result"
    }
   ],
   "source": [
    "range(1,100,10)"
   ]
  },
  {
   "cell_type": "code",
   "execution_count": 18,
   "metadata": {},
   "outputs": [
    {
     "data": {
      "text/plain": [
       "[2, 4, 6, 8, 10, 12, 14, 16, 18, 20]"
      ]
     },
     "execution_count": 18,
     "metadata": {},
     "output_type": "execute_result"
    }
   ],
   "source": [
    "range(2,21,2)"
   ]
  },
  {
   "cell_type": "code",
   "execution_count": 20,
   "metadata": {},
   "outputs": [
    {
     "data": {
      "text/plain": [
       "[1, 3, 5, 7, 9, 11, 13, 15, 17, 19]"
      ]
     },
     "execution_count": 20,
     "metadata": {},
     "output_type": "execute_result"
    }
   ],
   "source": [
    "range(1,21,2)"
   ]
  },
  {
   "cell_type": "code",
   "execution_count": 21,
   "metadata": {},
   "outputs": [
    {
     "data": {
      "text/plain": [
       "25"
      ]
     },
     "execution_count": 21,
     "metadata": {},
     "output_type": "execute_result"
    }
   ],
   "source": [
    "#average\n",
    "l=[10,20,30,40]\n",
    "sum(l)/len(l)"
   ]
  },
  {
   "cell_type": "code",
   "execution_count": 25,
   "metadata": {},
   "outputs": [
    {
     "name": "stdout",
     "output_type": "stream",
     "text": [
      "400\n",
      "100\n",
      "0\n",
      "100\n",
      "400\n"
     ]
    }
   ],
   "source": [
    "l=[10,20,30,40,50]\n",
    "mean=sum(l)/len(l)\n",
    "for i in l:\n",
    "    print (mean-i)**2"
   ]
  },
  {
   "cell_type": "code",
   "execution_count": 24,
   "metadata": {},
   "outputs": [
    {
     "name": "stdout",
     "output_type": "stream",
     "text": [
      "1000\n"
     ]
    }
   ],
   "source": [
    "l=[10,20,30,40,50]\n",
    "mean=sum(l)/len(l)\n",
    "res=0\n",
    "for i in l:\n",
    "    res=res+(mean-i)**2\n",
    "print res"
   ]
  },
  {
   "cell_type": "code",
   "execution_count": 28,
   "metadata": {},
   "outputs": [
    {
     "name": "stdout",
     "output_type": "stream",
     "text": [
      "enter string: abcdz\n",
      "97\n",
      "98\n",
      "99\n",
      "100\n",
      "122\n"
     ]
    }
   ],
   "source": [
    "s=raw_input(\"enter string: \")\n",
    "for i in s:\n",
    "    print ord(i)"
   ]
  },
  {
   "cell_type": "code",
   "execution_count": 32,
   "metadata": {},
   "outputs": [
    {
     "name": "stdout",
     "output_type": "stream",
     "text": [
      "enter string: ABCD\n"
     ]
    }
   ],
   "source": [
    "s=raw_input(\"enter string: \")\n",
    "for i in s:\n",
    "    if ord(i)>=97 and ord(i)<=122:\n",
    "        print \"it contains small letters\"\n",
    "        break\n"
   ]
  },
  {
   "cell_type": "code",
   "execution_count": 34,
   "metadata": {},
   "outputs": [
    {
     "name": "stdout",
     "output_type": "stream",
     "text": [
      "enter string: abcdADFADFADF\n",
      "it contains small letters\n"
     ]
    }
   ],
   "source": [
    "s=raw_input(\"enter string: \")\n",
    "c=0\n",
    "for i in s:\n",
    "    if ord(i)>=97 and ord(i)<=122:\n",
    "        c=c+1\n",
    "        break\n",
    "if c==0:\n",
    "    print \"it does not contains small letters\"\n",
    "else:\n",
    "    print \"it contains small letters\""
   ]
  },
  {
   "cell_type": "code",
   "execution_count": null,
   "metadata": {},
   "outputs": [],
   "source": []
  }
 ],
 "metadata": {
  "kernelspec": {
   "display_name": "Python 2",
   "language": "python",
   "name": "python2"
  },
  "language_info": {
   "codemirror_mode": {
    "name": "ipython",
    "version": 2
   },
   "file_extension": ".py",
   "mimetype": "text/x-python",
   "name": "python",
   "nbconvert_exporter": "python",
   "pygments_lexer": "ipython2",
   "version": "2.7.15"
  }
 },
 "nbformat": 4,
 "nbformat_minor": 2
}
