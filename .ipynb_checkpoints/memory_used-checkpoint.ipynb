{
 "cells": [
  {
   "cell_type": "code",
   "execution_count": 15,
   "metadata": {},
   "outputs": [
    {
     "name": "stdout",
     "output_type": "stream",
     "text": [
      "192.168.0.252\n",
      "\n"
     ]
    },
    {
     "ename": "TypeError",
     "evalue": "get_ssh() takes exactly 3 arguments (1 given)",
     "output_type": "error",
     "traceback": [
      "\u001b[0;31m---------------------------------------------------------------------------\u001b[0m",
      "\u001b[0;31mTypeError\u001b[0m                                 Traceback (most recent call last)",
      "\u001b[0;32m<ipython-input-15-427c74405abb>\u001b[0m in \u001b[0;36m<module>\u001b[0;34m()\u001b[0m\n\u001b[1;32m     13\u001b[0m     \u001b[0;32mreturn\u001b[0m \u001b[0mresp\u001b[0m\u001b[0;34m.\u001b[0m\u001b[0msplitline\u001b[0m\u001b[0;34m(\u001b[0m\u001b[0;34m)\u001b[0m\u001b[0;34m[\u001b[0m\u001b[0;36m1\u001b[0m\u001b[0;34m]\u001b[0m\u001b[0;34m.\u001b[0m\u001b[0msplit\u001b[0m\u001b[0;34m(\u001b[0m\u001b[0;34m)\u001b[0m\u001b[0;34m[\u001b[0m\u001b[0;36m2\u001b[0m\u001b[0;34m]\u001b[0m\u001b[0;34m\u001b[0m\u001b[0m\n\u001b[1;32m     14\u001b[0m \u001b[0;32mfor\u001b[0m \u001b[0mi\u001b[0m \u001b[0;32min\u001b[0m \u001b[0mservers\u001b[0m\u001b[0;34m:\u001b[0m\u001b[0;34m\u001b[0m\u001b[0m\n\u001b[0;32m---> 15\u001b[0;31m     \u001b[0mssh\u001b[0m\u001b[0;34m=\u001b[0m\u001b[0mget_ssh\u001b[0m\u001b[0;34m(\u001b[0m\u001b[0;34m*\u001b[0m\u001b[0mi\u001b[0m\u001b[0;34m)\u001b[0m\u001b[0;34m\u001b[0m\u001b[0m\n\u001b[0m\u001b[1;32m     16\u001b[0m     \u001b[0muser_space\u001b[0m\u001b[0;34m=\u001b[0m\u001b[0mget\u001b[0m\u001b[0;34m.\u001b[0m\u001b[0mmem\u001b[0m\u001b[0;34m(\u001b[0m\u001b[0mssh\u001b[0m\u001b[0;34m)\u001b[0m\u001b[0;34m\u001b[0m\u001b[0m\n\u001b[1;32m     17\u001b[0m     \u001b[0;32mprint\u001b[0m \u001b[0;34m\"%s:%s\"\u001b[0m\u001b[0;34m%\u001b[0m\u001b[0ms\u001b[0m\u001b[0;34m(\u001b[0m\u001b[0mi\u001b[0m\u001b[0;34m[\u001b[0m\u001b[0;36m0\u001b[0m\u001b[0;34m]\u001b[0m\u001b[0;34m,\u001b[0m\u001b[0mused_space\u001b[0m\u001b[0;34m)\u001b[0m\u001b[0;34m\u001b[0m\u001b[0m\n",
      "\u001b[0;31mTypeError\u001b[0m: get_ssh() takes exactly 3 arguments (1 given)"
     ]
    }
   ],
   "source": [
    "import paramiko as pmk\n",
    "f=open(\"hosts\", \"r\")\n",
    "servers=f.read()\n",
    "print servers\n",
    "def get_ssh(server,username,password):\n",
    "    ssh=pmk.SSHClient()\n",
    "    ssh.set_missing_host_key_policy(pmk.AutoAddPolicy())\n",
    "    ssh.connect(server,username=\"trinath\",password=\"S3curity88\")\n",
    "    return ssh\n",
    "def get_mem(ssh):\n",
    "    inp,outp,errp=ssh.exec_commad(\"free\")\n",
    "    resp=outp.read()\n",
    "    return resp.splitline()[1].split()[2]\n",
    "for i in servers:\n",
    "    ssh=get_ssh(*i)\n",
    "    user_space=get.mem(ssh)\n",
    "    print \"%s:%s\"%s(i[0],used_space)\n",
    "f.close()"
   ]
  },
  {
   "cell_type": "code",
   "execution_count": 5,
   "metadata": {},
   "outputs": [
    {
     "name": "stdout",
     "output_type": "stream",
     "text": [
      "192.168.0.252 \t1964560 \t1960992\n"
     ]
    }
   ],
   "source": [
    "import paramiko as pmk\n",
    "servers=[(\"192.168.0.252\",\"trinath\", \"123456\"),(\"192.168.0.252\",\"trinath\", \"123456)]\n",
    "def get_ssh(ip, username, password):\n",
    "    ssh = pmk.SSHClient()\n",
    "    ssh.set_missing_host_key_policy(pmk.AutoAddPolicy())\n",
    "    ssh.connect(ip,username=username,password=password)\n",
    "    return ssh\n",
    "def get_used(ssh):\n",
    "    inp, outp, errp=ssh.exec_command(\"free\")\n",
    "    resp =outp.read()\n",
    "    return resp.splitlines()[1].split()[2]\n",
    "shown_servers=[]\n",
    "for server in servers:\n",
    "    ssh = get_ssh(*server)\n",
    "    used_space=get_used(ssh)\n",
    "    server_ip = server[0]\n",
    "    if server_ip not in shown_servers:\n",
    "        print server_ip,\n",
    "        shown_servers.append(server_ip)\n",
    "    print \"\\t%s\"%(used_space),\n",
    "    ssh.close()"
   ]
  },
  {
   "cell_type": "code",
   "execution_count": 2,
   "metadata": {},
   "outputs": [],
   "source": [
    "import pandas as pd\n",
    "df= pd.DataFrame([(\"192.168.0.114\",123),\n",
    "                 (\"192.168.0.114\",126),\n",
    "                 (\"192.168.0.114\",127)],\n",
    "                 columns=[\"ip\",\"memory\"])"
   ]
  },
  {
   "cell_type": "code",
   "execution_count": 3,
   "metadata": {},
   "outputs": [
    {
     "data": {
      "text/html": [
       "<div>\n",
       "<style scoped>\n",
       "    .dataframe tbody tr th:only-of-type {\n",
       "        vertical-align: middle;\n",
       "    }\n",
       "\n",
       "    .dataframe tbody tr th {\n",
       "        vertical-align: top;\n",
       "    }\n",
       "\n",
       "    .dataframe thead th {\n",
       "        text-align: right;\n",
       "    }\n",
       "</style>\n",
       "<table border=\"1\" class=\"dataframe\">\n",
       "  <thead>\n",
       "    <tr style=\"text-align: right;\">\n",
       "      <th></th>\n",
       "      <th>ip</th>\n",
       "      <th>memory</th>\n",
       "    </tr>\n",
       "  </thead>\n",
       "  <tbody>\n",
       "    <tr>\n",
       "      <th>0</th>\n",
       "      <td>192.168.0.114</td>\n",
       "      <td>123</td>\n",
       "    </tr>\n",
       "    <tr>\n",
       "      <th>1</th>\n",
       "      <td>192.168.0.114</td>\n",
       "      <td>126</td>\n",
       "    </tr>\n",
       "    <tr>\n",
       "      <th>2</th>\n",
       "      <td>192.168.0.114</td>\n",
       "      <td>127</td>\n",
       "    </tr>\n",
       "  </tbody>\n",
       "</table>\n",
       "</div>"
      ],
      "text/plain": [
       "              ip  memory\n",
       "0  192.168.0.114     123\n",
       "1  192.168.0.114     126\n",
       "2  192.168.0.114     127"
      ]
     },
     "execution_count": 3,
     "metadata": {},
     "output_type": "execute_result"
    }
   ],
   "source": [
    "df"
   ]
  },
  {
   "cell_type": "code",
   "execution_count": 5,
   "metadata": {},
   "outputs": [
    {
     "data": {
      "image/png": "[encoded data removed]",
      "text/plain": [
       "<Figure size 432x288 with 1 Axes>"
      ]
     },
     "metadata": {
      "needs_background": "light"
     },
     "output_type": "display_data"
    }
   ],
   "source": [
    "import matplotlib.pyplot as plt\n",
    "df.plot(kind=\"bar\")\n",
    "plt.show()"
   ]
  },
  {
   "cell_type": "code",
   "execution_count": 4,
   "metadata": {},
   "outputs": [
    {
     "name": "stdout",
     "output_type": "stream",
     "text": [
      " 192.168.0.5 \t1179212 \t1178792\n"
     ]
    }
   ],
   "source": [
    "import paramiko as pmk\n",
    "servers=[(\"192.168.0.5\",\"zoals\"),(\"192.168.0.5\",\"zoals\")]\n",
    "def get_ssh(ip, username):\n",
    "    ssh = pmk.SSHClient()\n",
    "    ssh.set_missing_host_key_policy(pmk.AutoAddPolicy())\n",
    "    ssh.connect(ip,username=username)\n",
    "    return ssh\n",
    "def get_used(ssh):\n",
    "    inp, outp, errp=ssh.exec_command(\"free\")\n",
    "    resp =outp.read()\n",
    "    return resp.splitlines()[1].split()[2]\n",
    "shown_servers=[]\n",
    "for server in servers:\n",
    "    ssh = get_ssh(*server)\n",
    "    used_space=get_used(ssh)\n",
    "    server_ip = server[0]\n",
    "    if server_ip not in shown_servers:\n",
    "        print server_ip,\n",
    "        shown_servers.append(server_ip)\n",
    "    print \"\\t%s\"%(used_space),\n",
    "    ssh.close()"
   ]
  },
  {
   "cell_type": "code",
   "execution_count": null,
   "metadata": {},
   "outputs": [],
   "source": []
  }
 ],
 "metadata": {
  "kernelspec": {
   "display_name": "Python 2",
   "language": "python",
   "name": "python2"
  },
  "language_info": {
   "codemirror_mode": {
    "name": "ipython",
    "version": 2
   },
   "file_extension": ".py",
   "mimetype": "text/x-python",
   "name": "python",
   "nbconvert_exporter": "python",
   "pygments_lexer": "ipython2",
   "version": "2.7.15"
  }
 },
 "nbformat": 4,
 "nbformat_minor": 2
}
