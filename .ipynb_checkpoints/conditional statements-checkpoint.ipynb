{
 "cells": [
  {
   "cell_type": "code",
   "execution_count": 7,
   "metadata": {},
   "outputs": [
    {
     "name": "stdout",
     "output_type": "stream",
     "text": [
      "b is big\n"
     ]
    }
   ],
   "source": [
    "a=100\n",
    "b=20\n",
    "if b>a:\n",
    "    print \"a is big\"\n",
    "else:\n",
    "    print \"b is big\""
   ]
  },
  {
   "cell_type": "code",
   "execution_count": 10,
   "metadata": {},
   "outputs": [
    {
     "data": {
      "text/plain": [
       "6"
      ]
     },
     "execution_count": 10,
     "metadata": {},
     "output_type": "execute_result"
    }
   ],
   "source": [
    "s=\"python\"\n",
    "len(s)"
   ]
  },
  {
   "cell_type": "code",
   "execution_count": 11,
   "metadata": {},
   "outputs": [
    {
     "data": {
      "text/plain": [
       "False"
      ]
     },
     "execution_count": 11,
     "metadata": {},
     "output_type": "execute_result"
    }
   ],
   "source": [
    "#bool expressions\n",
    "10>20"
   ]
  },
  {
   "cell_type": "code",
   "execution_count": 12,
   "metadata": {},
   "outputs": [
    {
     "data": {
      "text/plain": [
       "True"
      ]
     },
     "execution_count": 12,
     "metadata": {},
     "output_type": "execute_result"
    }
   ],
   "source": [
    "20>10"
   ]
  },
  {
   "cell_type": "code",
   "execution_count": 16,
   "metadata": {},
   "outputs": [
    {
     "data": {
      "text/plain": [
       "True"
      ]
     },
     "execution_count": 16,
     "metadata": {},
     "output_type": "execute_result"
    }
   ],
   "source": [
    "10>20 or 20>10"
   ]
  },
  {
   "cell_type": "code",
   "execution_count": 17,
   "metadata": {},
   "outputs": [
    {
     "data": {
      "text/plain": [
       "False"
      ]
     },
     "execution_count": 17,
     "metadata": {},
     "output_type": "execute_result"
    }
   ],
   "source": [
    "10>20 and 20>10"
   ]
  },
  {
   "cell_type": "code",
   "execution_count": 18,
   "metadata": {},
   "outputs": [
    {
     "data": {
      "text/plain": [
       "True"
      ]
     },
     "execution_count": 18,
     "metadata": {},
     "output_type": "execute_result"
    }
   ],
   "source": [
    "bool(1)"
   ]
  },
  {
   "cell_type": "code",
   "execution_count": 19,
   "metadata": {},
   "outputs": [
    {
     "data": {
      "text/plain": [
       "False"
      ]
     },
     "execution_count": 19,
     "metadata": {},
     "output_type": "execute_result"
    }
   ],
   "source": [
    "bool(0)"
   ]
  },
  {
   "cell_type": "code",
   "execution_count": 20,
   "metadata": {},
   "outputs": [
    {
     "name": "stdout",
     "output_type": "stream",
     "text": [
      "enter a string: python\n",
      "python 6\n"
     ]
    }
   ],
   "source": [
    "s=raw_input(\"enter a string: \")\n",
    "print s, len(s)"
   ]
  },
  {
   "cell_type": "code",
   "execution_count": 21,
   "metadata": {},
   "outputs": [
    {
     "name": "stdout",
     "output_type": "stream",
     "text": [
      "enter a string: \n",
      "invalid string\n"
     ]
    }
   ],
   "source": [
    "s=raw_input(\"enter a string: \")\n",
    "if len(s)==0:\n",
    "    print \"invalid string\"\n",
    "else:\n",
    "    print s, len(s)"
   ]
  },
  {
   "cell_type": "code",
   "execution_count": 28,
   "metadata": {},
   "outputs": [
    {
     "name": "stdout",
     "output_type": "stream",
     "text": [
      "enter a string: asdfasdfasdf\n",
      "False\n",
      "asdfasdfasdf 12\n",
      "thank you\n"
     ]
    }
   ],
   "source": [
    "s=raw_input(\"enter a string: \")\n",
    "len_s=len(s)\n",
    "print bool(len_s==0)\n",
    "if len_s==0:    \n",
    "    print \"invalid string\"\n",
    "else:\n",
    "    print s, len(s)\n",
    "print \"thank you\""
   ]
  },
  {
   "cell_type": "code",
   "execution_count": 31,
   "metadata": {},
   "outputs": [
    {
     "name": "stdout",
     "output_type": "stream",
     "text": [
      "enter a string: \n",
      "invalid string\n",
      "thank you\n"
     ]
    }
   ],
   "source": [
    "s=raw_input(\"enter a string: \")\n",
    "if bool(s):    \n",
    "    print s, len(s)\n",
    "else:\n",
    "    print \"invalid string\"\n",
    "print \"thank you\""
   ]
  },
  {
   "cell_type": "code",
   "execution_count": 32,
   "metadata": {},
   "outputs": [
    {
     "name": "stdout",
     "output_type": "stream",
     "text": [
      "enter a string: adsfasdf\n",
      "adsfasdf 8\n",
      "thank you\n"
     ]
    }
   ],
   "source": [
    "s=raw_input(\"enter a string: \")\n",
    "if s:    \n",
    "    print s, len(s)\n",
    "else:\n",
    "    print \"invalid string\"\n",
    "print \"thank you\""
   ]
  },
  {
   "cell_type": "code",
   "execution_count": 36,
   "metadata": {},
   "outputs": [
    {
     "name": "stdout",
     "output_type": "stream",
     "text": [
      "Fruits Cost Menu:\n",
      "\t1. Mango\n",
      "\t2. Orange\n",
      "\t3. Apple\n",
      "Enter option: 1\n",
      "<type 'str'>\n"
     ]
    }
   ],
   "source": [
    "\"\"\"\n",
    "Fruits Cost Menu:\n",
    "    1. Mango\n",
    "    2. Orange\n",
    "    3. Apple\n",
    "1-> One Kg Mango 90Rs.\n",
    "2-> One Kg Orange 100Rs.\n",
    "3-> One Kg Apple 120Rs.\n",
    "any other: not listed\n",
    "\"\"\"\n",
    "print \"Fruits Cost Menu:\\n\\t1. Mango\\n\\t2. Orange\\n\\t3. Apple\"\n",
    "opt=raw_input(\"Enter option: \")\n",
    "print type(opt)\n",
    "if opt==1:\n",
    "    print \"You have selected Mango\"\n",
    "if opt==2:\n",
    "    print \"You have selected Orange\"\n",
    "if opt==3:\n",
    "    print \"You have selected Apple\""
   ]
  },
  {
   "cell_type": "code",
   "execution_count": 37,
   "metadata": {},
   "outputs": [
    {
     "data": {
      "text/plain": [
       "False"
      ]
     },
     "execution_count": 37,
     "metadata": {},
     "output_type": "execute_result"
    }
   ],
   "source": [
    "\"1\"==1"
   ]
  },
  {
   "cell_type": "code",
   "execution_count": 38,
   "metadata": {},
   "outputs": [
    {
     "data": {
      "text/plain": [
       "True"
      ]
     },
     "execution_count": 38,
     "metadata": {},
     "output_type": "execute_result"
    }
   ],
   "source": [
    "\"1\"==\"1\""
   ]
  },
  {
   "cell_type": "code",
   "execution_count": 41,
   "metadata": {},
   "outputs": [
    {
     "data": {
      "text/plain": [
       "True"
      ]
     },
     "execution_count": 41,
     "metadata": {},
     "output_type": "execute_result"
    }
   ],
   "source": [
    "1==1"
   ]
  },
  {
   "cell_type": "code",
   "execution_count": 39,
   "metadata": {},
   "outputs": [
    {
     "name": "stdout",
     "output_type": "stream",
     "text": [
      "Fruits Cost Menu:\n",
      "\t1. Mango\n",
      "\t2. Orange\n",
      "\t3. Apple\n",
      "Enter option: 1\n",
      "<type 'str'>\n",
      "You have selected Mango\n"
     ]
    }
   ],
   "source": [
    "print \"Fruits Cost Menu:\\n\\t1. Mango\\n\\t2. Orange\\n\\t3. Apple\"\n",
    "opt=raw_input(\"Enter option: \")\n",
    "print type(opt)\n",
    "if opt==\"1\":\n",
    "    print \"You have selected Mango\"\n",
    "if opt==\"2\":\n",
    "    print \"You have selected Orange\"\n",
    "if opt==\"3\":\n",
    "    print \"You have selected Apple\""
   ]
  },
  {
   "cell_type": "code",
   "execution_count": 40,
   "metadata": {},
   "outputs": [
    {
     "name": "stdout",
     "output_type": "stream",
     "text": [
      "Fruits Cost Menu:\n",
      "\t1. Mango\n",
      "\t2. Orange\n",
      "\t3. Apple\n",
      "Enter option: 1\n",
      "You have selected Mango\n"
     ]
    }
   ],
   "source": [
    "print \"Fruits Cost Menu:\\n\\t1. Mango\\n\\t2. Orange\\n\\t3. Apple\"\n",
    "opt=int(raw_input(\"Enter option: \"))\n",
    "if opt==1:\n",
    "    print \"You have selected Mango\"\n",
    "if opt==2:\n",
    "    print \"You have selected Orange\"\n",
    "if opt==3:\n",
    "    print \"You have selected Apple\""
   ]
  },
  {
   "cell_type": "code",
   "execution_count": 44,
   "metadata": {},
   "outputs": [
    {
     "name": "stdout",
     "output_type": "stream",
     "text": [
      "Fruits Cost Menu:\n",
      "\t1. Mango\n",
      "\t2. Orange\n",
      "\t3. Apple\n",
      "Enter option: 2\n",
      "You have selected Orange\n",
      "not listed\n"
     ]
    }
   ],
   "source": [
    "print \"Fruits Cost Menu:\\n\\t1. Mango\\n\\t2. Orange\\n\\t3. Apple\"\n",
    "opt=int(raw_input(\"Enter option: \"))\n",
    "if opt==1:\n",
    "    print \"You have selected Mango\"\n",
    "if opt==2:\n",
    "    print \"You have selected Orange\"\n",
    "if opt==3:\n",
    "    print \"You have selected Apple\"\n",
    "else:\n",
    "    print \"not listed\""
   ]
  },
  {
   "cell_type": "code",
   "execution_count": 45,
   "metadata": {},
   "outputs": [
    {
     "name": "stdout",
     "output_type": "stream",
     "text": [
      "Fruits Cost Menu:\n",
      "\t1. Mango\n",
      "\t2. Orange\n",
      "\t3. Apple\n",
      "Enter option: 2\n",
      "You have selected Orange\n"
     ]
    }
   ],
   "source": [
    "print \"Fruits Cost Menu:\\n\\t1. Mango\\n\\t2. Orange\\n\\t3. Apple\"\n",
    "opt=int(raw_input(\"Enter option: \"))\n",
    "if opt==1:\n",
    "    print \"You have selected Mango\"\n",
    "if opt==2:\n",
    "    print \"You have selected Orange\"\n",
    "if opt==3:\n",
    "    print \"You have selected Apple\"\n",
    "if opt>=4:\n",
    "    print \"not listed\""
   ]
  },
  {
   "cell_type": "code",
   "execution_count": 47,
   "metadata": {},
   "outputs": [
    {
     "name": "stdout",
     "output_type": "stream",
     "text": [
      "Fruits Cost Menu:\n",
      "\t1. Mango\n",
      "\t2. Orange\n",
      "\t3. Apple\n",
      "Enter option: 5\n",
      "not listed\n"
     ]
    }
   ],
   "source": [
    "print \"Fruits Cost Menu:\\n\\t1. Mango\\n\\t2. Orange\\n\\t3. Apple\"\n",
    "opt=int(raw_input(\"Enter option: \"))\n",
    "if opt==1:\n",
    "    print \"You have selected Mango\"\n",
    "elif opt==2:\n",
    "    print \"You have selected Orange\"\n",
    "elif opt==3:\n",
    "    print \"You have selected Apple\"\n",
    "else:\n",
    "    print \"not listed\""
   ]
  },
  {
   "cell_type": "code",
   "execution_count": 52,
   "metadata": {},
   "outputs": [
    {
     "name": "stdout",
     "output_type": "stream",
     "text": [
      "Fruits Cost Menu:\n",
      "\t1. Mango\n",
      "\t2. Orange\n",
      "\t3. Apple\n",
      "Enter option: asdfasdf\n",
      "not listed\n"
     ]
    }
   ],
   "source": [
    "print \"Fruits Cost Menu:\\n\\t1. Mango\\n\\t2. Orange\\n\\t3. Apple\"\n",
    "opt=raw_input(\"Enter option: \")\n",
    "if opt==\"1\":\n",
    "    print \"You have selected Mango\"\n",
    "elif opt==\"2\":\n",
    "    print \"You have selected Orange\"\n",
    "elif opt==\"3\":\n",
    "    print \"You have selected Apple\"\n",
    "else:\n",
    "    print \"not listed\""
   ]
  },
  {
   "cell_type": "code",
   "execution_count": 54,
   "metadata": {},
   "outputs": [
    {
     "name": "stdout",
     "output_type": "stream",
     "text": [
      "Fruits Cost Menu:\n",
      "\t1. Mango\n",
      "\t2. Orange\n",
      "\t3. Apple\n",
      "Enter option: \n",
      "Invalid string\n"
     ]
    }
   ],
   "source": [
    "print \"Fruits Cost Menu:\\n\\t1. Mango\\n\\t2. Orange\\n\\t3. Apple\"\n",
    "opt=raw_input(\"Enter option: \")\n",
    "if opt:\n",
    "    if opt==\"1\":\n",
    "        print \"You have selected Mango\"\n",
    "    elif opt==\"2\":\n",
    "        print \"You have selected Orange\"\n",
    "    elif opt==\"3\":\n",
    "        print \"You have selected Apple\"\n",
    "    else:\n",
    "        print \"not listed\"\n",
    "else:\n",
    "    print \"Invalid string\""
   ]
  },
  {
   "cell_type": "code",
   "execution_count": 57,
   "metadata": {},
   "outputs": [
    {
     "name": "stdout",
     "output_type": "stream",
     "text": [
      "True and True = True\n",
      "True and False = False\n",
      "False and True = False\n",
      "False and False = False\n"
     ]
    }
   ],
   "source": [
    "# and or xor\n",
    "print \"True and True =\",True and True\n",
    "print \"True and False =\",True and False\n",
    "print \"False and True =\",False and True\n",
    "print \"False and False =\",False and False"
   ]
  },
  {
   "cell_type": "code",
   "execution_count": 58,
   "metadata": {},
   "outputs": [
    {
     "name": "stdout",
     "output_type": "stream",
     "text": [
      "True or True = True\n",
      "True or False = True\n",
      "False or True = True\n",
      "False or False = False\n"
     ]
    }
   ],
   "source": [
    "# and or xor\n",
    "print \"True or True =\",True or True\n",
    "print \"True or False =\",True or False\n",
    "print \"False or True =\",False or True\n",
    "print \"False or False =\",False or False"
   ]
  },
  {
   "cell_type": "code",
   "execution_count": 60,
   "metadata": {},
   "outputs": [
    {
     "ename": "SyntaxError",
     "evalue": "invalid syntax (<ipython-input-60-37b6a522c764>, line 2)",
     "output_type": "error",
     "traceback": [
      "\u001b[0;36m  File \u001b[0;32m\"<ipython-input-60-37b6a522c764>\"\u001b[0;36m, line \u001b[0;32m2\u001b[0m\n\u001b[0;31m    print \"True xor True =\",True xor True\u001b[0m\n\u001b[0m                                   ^\u001b[0m\n\u001b[0;31mSyntaxError\u001b[0m\u001b[0;31m:\u001b[0m invalid syntax\n"
     ]
    }
   ],
   "source": [
    "# and or xor\n",
    "print \"True xor True =\",True xor True\n",
    "print \"True xor False =\",True xor False\n",
    "print \"False xor True =\",False xor True\n",
    "print \"False xor False =\",False xor False"
   ]
  },
  {
   "cell_type": "code",
   "execution_count": 61,
   "metadata": {},
   "outputs": [
    {
     "data": {
      "text/plain": [
       "True"
      ]
     },
     "execution_count": 61,
     "metadata": {},
     "output_type": "execute_result"
    }
   ],
   "source": [
    "'''\n",
    "False xor False-> False\n",
    "True xor True -> False\n",
    "False xor True-> True\n",
    "True xor False-> True\n",
    "'''\n",
    "False==False"
   ]
  },
  {
   "cell_type": "code",
   "execution_count": 62,
   "metadata": {},
   "outputs": [
    {
     "data": {
      "text/plain": [
       "False"
      ]
     },
     "execution_count": 62,
     "metadata": {},
     "output_type": "execute_result"
    }
   ],
   "source": [
    "False!=False"
   ]
  },
  {
   "cell_type": "code",
   "execution_count": 63,
   "metadata": {},
   "outputs": [
    {
     "data": {
      "text/plain": [
       "False"
      ]
     },
     "execution_count": 63,
     "metadata": {},
     "output_type": "execute_result"
    }
   ],
   "source": [
    "True!=True"
   ]
  },
  {
   "cell_type": "code",
   "execution_count": 64,
   "metadata": {},
   "outputs": [
    {
     "data": {
      "text/plain": [
       "True"
      ]
     },
     "execution_count": 64,
     "metadata": {},
     "output_type": "execute_result"
    }
   ],
   "source": [
    "False!=True"
   ]
  },
  {
   "cell_type": "code",
   "execution_count": 65,
   "metadata": {},
   "outputs": [
    {
     "data": {
      "text/plain": [
       "True"
      ]
     },
     "execution_count": 65,
     "metadata": {},
     "output_type": "execute_result"
    }
   ],
   "source": [
    "True!=False"
   ]
  }
 ],
 "metadata": {
  "kernelspec": {
   "display_name": "Python 2",
   "language": "python",
   "name": "python2"
  },
  "language_info": {
   "codemirror_mode": {
    "name": "ipython",
    "version": 2
   },
   "file_extension": ".py",
   "mimetype": "text/x-python",
   "name": "python",
   "nbconvert_exporter": "python",
   "pygments_lexer": "ipython2",
   "version": "2.7.15"
  }
 },
 "nbformat": 4,
 "nbformat_minor": 2
}
