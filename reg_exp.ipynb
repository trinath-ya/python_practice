{
 "cells": [
  {
   "cell_type": "code",
   "execution_count": 196,
   "metadata": {},
   "outputs": [
    {
     "name": "stdout",
     "output_type": "stream",
     "text": [
      "<type 'tuple'>\n",
      "['4645' '3153' '3456']\n"
     ]
    }
   ],
   "source": [
    "import re\n",
    "s=((4645,),(3153,),(3456,))\n",
    "print type(s)\n",
    "s1 = str(s)\n",
    "s2 = str(re.findall(\"[0-9]+\",s1))\n",
    "print s2.replace(\",\",\"\")"
   ]
  },
  {
   "cell_type": "code",
   "execution_count": 234,
   "metadata": {},
   "outputs": [
    {
     "name": "stdout",
     "output_type": "stream",
     "text": [
      "<type 'tuple'>\n",
      "4645\n",
      "3153\n",
      "3456\n"
     ]
    }
   ],
   "source": [
    "import re\n",
    "s=((4645,),(3153,),(3456,))\n",
    "print type(s)\n",
    "s1 = str(s)\n",
    "s2 = (re.finditer(\"[0-9]+\",s1))\n",
    "for i in s2:\n",
    "    print(i.group(0))"
   ]
  },
  {
   "cell_type": "code",
   "execution_count": 199,
   "metadata": {},
   "outputs": [
    {
     "name": "stdout",
     "output_type": "stream",
     "text": [
      "Name, ID, Email, Phone\n",
      "sai,1,Sail123@gamil.com,9676622023\n",
      "jayaram,2,jayWE@yahoo.co.in,9676622024\n",
      "vedha,3,vedhanveshRT@rediff.com,967622025\n",
      "\n"
     ]
    }
   ],
   "source": [
    "s=\"\"\"Name, ID, Email, Phone\n",
    "sai,1,Sail123@gamil.com,9676622023\n",
    "jayaram,2,jayWE@yahoo.co.in,9676622024\n",
    "vedha,3,vedhanveshRT@rediff.com,967622025\n",
    "\"\"\"\n",
    "print(s)"
   ]
  },
  {
   "cell_type": "code",
   "execution_count": 200,
   "metadata": {},
   "outputs": [
    {
     "name": "stdout",
     "output_type": "stream",
     "text": [
      "['Name,', 'ID,', 'Email,', 'Phone']\n",
      "['sai,1,Sail123@gamil.com,9676622023']\n",
      "['jayaram,2,jayWE@yahoo.co.in,9676622024']\n",
      "['vedha,3,vedhanveshRT@rediff.com,967622025']\n"
     ]
    }
   ],
   "source": [
    "s=\"\"\"Name, ID, Email, Phone\n",
    "sai,1,Sail123@gamil.com,9676622023\n",
    "jayaram,2,jayWE@yahoo.co.in,9676622024\n",
    "vedha,3,vedhanveshRT@rediff.com,967622025\n",
    "\"\"\"\n",
    "for row in s.splitlines():\n",
    "    print row.split()"
   ]
  },
  {
   "cell_type": "code",
   "execution_count": 201,
   "metadata": {},
   "outputs": [
    {
     "name": "stdout",
     "output_type": "stream",
     "text": [
      "['Name', ' ID', ' Email', ' Phone']\n",
      "['sai', '1', 'Sail123@gamil.com', '9676622023']\n",
      "['jayaram', '2', 'jayWE@yahoo.co.in', '9676622024']\n",
      "['vedha', '3', 'vedhanveshRT@rediff.com', '967622025']\n"
     ]
    }
   ],
   "source": [
    "s=\"\"\"Name, ID, Email, Phone\n",
    "sai,1,Sail123@gamil.com,9676622023\n",
    "jayaram,2,jayWE@yahoo.co.in,9676622024\n",
    "vedha,3,vedhanveshRT@rediff.com,967622025\n",
    "\"\"\"\n",
    "for row in s.splitlines():\n",
    "    print row.split(\",\")"
   ]
  },
  {
   "cell_type": "code",
   "execution_count": 202,
   "metadata": {},
   "outputs": [
    {
     "name": "stdout",
     "output_type": "stream",
     "text": [
      " Email\n",
      "Sail123@gamil.com\n",
      "jayWE@yahoo.co.in\n",
      "vedhanveshRT@rediff.com\n"
     ]
    }
   ],
   "source": [
    "s=\"\"\"Name, ID, Email, Phone\n",
    "sai,1,Sail123@gamil.com,9676622023\n",
    "jayaram,2,jayWE@yahoo.co.in,9676622024\n",
    "vedha,3,vedhanveshRT@rediff.com,967622025\n",
    "\"\"\"\n",
    "for row in s.splitlines():\n",
    "    print(row.split(\",\")[2])"
   ]
  },
  {
   "cell_type": "code",
   "execution_count": 203,
   "metadata": {},
   "outputs": [
    {
     "name": "stdout",
     "output_type": "stream",
     "text": [
      " Phone\n",
      "9676622023\n",
      "9676622024\n",
      "9676220254\n",
      "4\n"
     ]
    }
   ],
   "source": [
    "s=\"\"\"Name, ID, Email, Phone\n",
    "sai,1,Sail123@gamil.com,9676622023\n",
    "jayaram,2,jayWE@yahoo.co.in,9676622024\n",
    "vedha,3,vedhanveshRT@rediff.com,9676220254\n",
    "9676220255,Tri,vedhanveshRT@rediff.com,4\n",
    "\"\"\"\n",
    "for row in s.splitlines():\n",
    "    print(row.split(\",\")[3])"
   ]
  },
  {
   "cell_type": "code",
   "execution_count": 205,
   "metadata": {},
   "outputs": [
    {
     "name": "stdout",
     "output_type": "stream",
     "text": [
      "['9676622023', '9676622024', '9676220254', '9676220255']\n"
     ]
    }
   ],
   "source": [
    "s=\"\"\"Name, ID, Email, Phone\n",
    "sai,1,Sail123@gamil.com,9676622023\n",
    "jayaram,2,jayWE@yahoo.co.in,9676622024\n",
    "vedha,3,vedhanveshRT@rediff.com,9676220254\n",
    "9676220255,Tri,vedhanveshRT@rediff.com,4\n",
    "\"\"\"\n",
    "import re\n",
    "print(re.findall(\"[0-9]{10}\",s))"
   ]
  },
  {
   "cell_type": "code",
   "execution_count": 206,
   "metadata": {},
   "outputs": [
    {
     "name": "stdout",
     "output_type": "stream",
     "text": [
      "['1', '123', '9676622023', '2', '9676622024', '3', '9676220254', '9676220255', '4']\n"
     ]
    }
   ],
   "source": [
    "s=\"\"\"Name, ID, Email, Phone\n",
    "sai,1,Sail123@gamil.com,9676622023\n",
    "jayaram,2,jayWE@yahoo.co.in,9676622024\n",
    "vedha,3,vedhanveshRT@rediff.com,9676220254\n",
    "9676220255,Tri,vedhanveshRT@rediff.com,4\n",
    "\"\"\"\n",
    "import re\n",
    "print(re.findall(\"[0-9]{1,10}\",s,re.I))"
   ]
  },
  {
   "cell_type": "code",
   "execution_count": 207,
   "metadata": {},
   "outputs": [
    {
     "name": "stdout",
     "output_type": "stream",
     "text": [
      "['1', '123', '9676622023', '2', '9676622024', '3', '9676220254', '9676220255', '4']\n"
     ]
    }
   ],
   "source": [
    "s=\"\"\"Name, ID, Email, Phone\n",
    "sai,1,Sail123@gamil.com,9676622023\n",
    "jayaram,2,jayWE@yahoo.co.in,9676622024\n",
    "vedha,3,vedhanveshRT@rediff.com,9676220254\n",
    "9676220255,Tri,vedhanveshRT@rediff.com,4\n",
    "\"\"\"\n",
    "import re\n",
    "print(re.findall(\"[0-9]+\",s,re.I))"
   ]
  },
  {
   "cell_type": "code",
   "execution_count": 208,
   "metadata": {},
   "outputs": [
    {
     "name": "stdout",
     "output_type": "stream",
     "text": [
      "['4']\n"
     ]
    }
   ],
   "source": [
    "s=\"\"\"Name, ID, Email, Phone\n",
    "sai,1,Sail123@gamil.com,9676622023\n",
    "jayaram,2,jayWE@yahoo.co.in,9676622024\n",
    "vedha,3,vedhanveshRT@rediff.com,9676220254\n",
    "9676220255,Tri,vedhanveshRT@rediff.com,4\n",
    "\"\"\"\n",
    "import re\n",
    "print(re.findall(\"[0-9]$\",s,re.I|re.DOTALL))"
   ]
  },
  {
   "cell_type": "code",
   "execution_count": 209,
   "metadata": {},
   "outputs": [
    {
     "name": "stdout",
     "output_type": "stream",
     "text": [
      "['3', '4', '4', '4']\n"
     ]
    }
   ],
   "source": [
    "s=\"\"\"Name, ID, Email, Phone\n",
    "sai,1,Sail123@gamil.com,9676622023\n",
    "jayaram,2,jayWE@yahoo.co.in,9676622024\n",
    "vedha,3,vedhanveshRT@rediff.com,9676220254\n",
    "9676220255,Tri,vedhanveshRT@rediff.com,4\n",
    "\"\"\"\n",
    "import re\n",
    "print(re.findall(\"[0-9]$\",s,re.I|re.DOTALL|re.M))"
   ]
  },
  {
   "cell_type": "code",
   "execution_count": 210,
   "metadata": {},
   "outputs": [
    {
     "name": "stdout",
     "output_type": "stream",
     "text": [
      "['N', 'a', 'm', 'e', ',', ' ', 'I', 'D', ',', ' ', 'E', 'm', 'a', 'i', 'l', ',', ' ', 'P', 'h', 'o', 'n', 'e', '\\n', 's', 'a', 'i', ',', ',', 'S', 'a', 'i', 'l', '@', 'g', 'a', 'm', 'i', 'l', '.', 'c', 'o', 'm', ',', '\\n', 'j', 'a', 'y', 'a', 'r', 'a', 'm', ',', ',', 'j', 'a', 'y', 'W', 'E', '@', 'y', 'a', 'h', 'o', 'o', '.', 'c', 'o', '.', 'i', 'n', ',', '\\n', 'v', 'e', 'd', 'h', 'a', ',', ',', 'v', 'e', 'd', 'h', 'a', 'n', 'v', 'e', 's', 'h', 'R', 'T', '@', 'r', 'e', 'd', 'i', 'f', 'f', '.', 'c', 'o', 'm', ',', '\\n', ',', 'T', 'r', 'i', ',', 'v', 'e', 'd', 'h', 'a', 'n', 'v', 'e', 's', 'h', 'R', 'T', '@', 'r', 'e', 'd', 'i', 'f', 'f', '.', 'c', 'o', 'm', ',', '\\n']\n"
     ]
    }
   ],
   "source": [
    "s=\"\"\"Name, ID, Email, Phone\n",
    "sai,1,Sail123@gamil.com,9676622023\n",
    "jayaram,2,jayWE@yahoo.co.in,9676622024\n",
    "vedha,3,vedhanveshRT@rediff.com,9676220254\n",
    "9676220255,Tri,vedhanveshRT@rediff.com,4\n",
    "\"\"\"\n",
    "import re\n",
    "print(re.findall(\"[^0-9]\",s,re.I|re.DOTALL))"
   ]
  },
  {
   "cell_type": "code",
   "execution_count": 211,
   "metadata": {},
   "outputs": [
    {
     "name": "stdout",
     "output_type": "stream",
     "text": [
      "[]\n"
     ]
    }
   ],
   "source": [
    "s=\"\"\"Name, ID, Email, Phone\n",
    "sai,1,Sail123@gamil.com,9676622023\n",
    "jayaram,2,jayWE@yahoo.co.in,9676622024\n",
    "vedha,3,vedhanveshRT@rediff.com,9676220254\n",
    "9676220255,Tri,vedhanveshRT@rediff.com,4\n",
    "\"\"\"\n",
    "import re\n",
    "print(re.findall(\"^[0-9]\",s,re.I|re.DOTALL))"
   ]
  },
  {
   "cell_type": "code",
   "execution_count": 212,
   "metadata": {},
   "outputs": [
    {
     "name": "stdout",
     "output_type": "stream",
     "text": [
      "['9']\n"
     ]
    }
   ],
   "source": [
    "s=\"\"\"Name, ID, Email, Phone\n",
    "sai,1,Sail123@gamil.com,9676622023\n",
    "jayaram,2,jayWE@yahoo.co.in,9676622024\n",
    "vedha,3,vedhanveshRT@rediff.com,9676220254\n",
    "9676220255,Tri,vedhanveshRT@rediff.com,4\n",
    "\"\"\"\n",
    "import re\n",
    "print(re.findall(\"^[0-9]\",s,re.I|re.DOTALL|re.M))"
   ]
  },
  {
   "cell_type": "code",
   "execution_count": 213,
   "metadata": {},
   "outputs": [
    {
     "name": "stdout",
     "output_type": "stream",
     "text": [
      "['2', '9']\n"
     ]
    }
   ],
   "source": [
    "s=\"\"\"Name, ID, Email, Phone\n",
    "sai,1,Sail123@gamil.com,9676622023\n",
    "2,jayaram,jayWE@yahoo.co.in,9676622024\n",
    "vedha,3,vedhanveshRT@rediff.com,9676220254\n",
    "9676220255,Tri,vedhanveshRT@rediff.com,4\n",
    "\"\"\"\n",
    "import re\n",
    "print(re.findall(\"^[0-9]\",s,re.I|re.DOTALL|re.M))"
   ]
  },
  {
   "cell_type": "code",
   "execution_count": 214,
   "metadata": {},
   "outputs": [
    {
     "name": "stdout",
     "output_type": "stream",
     "text": [
      "['N', 's', '2', 'v', '9']\n"
     ]
    }
   ],
   "source": [
    "s=\"\"\"Name, ID, Email, Phone\n",
    "sai,1,Sail123@gamil.com,9676622023\n",
    "2,jayaram,jayWE@yahoo.co.in,9676622024\n",
    "vedha,3,vedhanveshRT@rediff.com,9676220254\n",
    "9676220255,Tri,vedhanveshRT@rediff.com,4\n",
    "\"\"\"\n",
    "import re\n",
    "print(re.findall(\"^[0-9a-z]\",s,re.I|re.DOTALL|re.M))"
   ]
  },
  {
   "cell_type": "code",
   "execution_count": 216,
   "metadata": {},
   "outputs": [
    {
     "name": "stdout",
     "output_type": "stream",
     "text": [
      "['Sail123@gamil.com', 'jayWE@yahoo.co.in', 'vedhanveshRT@rediff.com', 'DHANA@govt.org']\n"
     ]
    }
   ],
   "source": [
    "s=\"\"\"sai,1,Sail123@gamil.com,9676622023\n",
    "2,jayaram,jayWE@yahoo.co.in,9676622024\n",
    "vedhanveshRT@rediff.com,vedha,3,9676622025\n",
    "9676622026,dhana,DHANA@govt.org,6\n",
    "\"\"\"\n",
    "##email expression.\n",
    "#sambapython@gmail.com\n",
    "#alphabets, numbers,_,-: atleat one(+)--[a-z0-9_-]+\n",
    "#@--@\n",
    "#alphabets--atleast one(+), [a-z]+\n",
    "#.--\\.\n",
    "#com,co.in,govt.org----[.a-z]*\n",
    "print (re.findall(\"[a-z0-9_-]+@+[a-z]+[.a-z]*\",s,re.I|re.DOTALL|re.M))"
   ]
  },
  {
   "cell_type": "code",
   "execution_count": 217,
   "metadata": {},
   "outputs": [
    {
     "name": "stdout",
     "output_type": "stream",
     "text": [
      "Sail123@gamil.com\n",
      "jayWE@yahoo.co.in\n",
      "vedhanveshRT@rediff.com\n",
      "DHANA@govt.org\n"
     ]
    }
   ],
   "source": [
    "s=\"\"\"sai,1,Sail123@gamil.com,9676622023\n",
    "2,jayaram,jayWE@yahoo.co.in,9676622024\n",
    "vedhanveshRT@rediff.com,vedha,3,9676622025\n",
    "9676622026,dhana,DHANA@govt.org,6\n",
    "\"\"\"\n",
    "##email expression.\n",
    "#sambapython@gmail.com\n",
    "#alphabets, numbers,_,-: atleat one(+)--[a-z0-9_-]+\n",
    "#@--@\n",
    "#alphabets--atleast one(+), [a-z]+\n",
    "#.--\\.\n",
    "#com,co.in,govt.org----[.a-z]*\n",
    "emails = (re.finditer(\"[a-z0-9_-]+@+[a-z]+[.a-z]*\",s,re.I|re.DOTALL|re.M))\n",
    "for i in emails:\n",
    "    print(i.group(0))"
   ]
  },
  {
   "cell_type": "code",
   "execution_count": 219,
   "metadata": {},
   "outputs": [
    {
     "name": "stdout",
     "output_type": "stream",
     "text": [
      "<_sre.SRE_Match object at 0x7f4d289a21d0>\n"
     ]
    }
   ],
   "source": [
    "print re.search(\"[a-z0-9_]+@[a-z]+\\.[.a-z]*\",s,re.I)"
   ]
  },
  {
   "cell_type": "code",
   "execution_count": 221,
   "metadata": {},
   "outputs": [
    {
     "name": "stdout",
     "output_type": "stream",
     "text": [
      "None\n"
     ]
    }
   ],
   "source": [
    "print re.search(\"^[a-z0-9_-]+@[a-z]+\\.[.a-z]*\",s,re.I)"
   ]
  },
  {
   "cell_type": "code",
   "execution_count": 226,
   "metadata": {},
   "outputs": [
    {
     "name": "stdout",
     "output_type": "stream",
     "text": [
      "['Sail123@gamil.com', 'jayWE@yahoo.co.in', 'vedhanveshRT@rediff.com', 'DHANA@govt.org']\n"
     ]
    }
   ],
   "source": [
    "mail_req=re.compile(\"[a-z0-9_-]+@[a-z]+[.a-z]*\",re.I)\n",
    "print mail_req.findall(s)"
   ]
  },
  {
   "cell_type": "code",
   "execution_count": null,
   "metadata": {},
   "outputs": [],
   "source": []
  }
 ],
 "metadata": {
  "kernelspec": {
   "display_name": "Python 2",
   "language": "python",
   "name": "python2"
  },
  "language_info": {
   "codemirror_mode": {
    "name": "ipython",
    "version": 2
   },
   "file_extension": ".py",
   "mimetype": "text/x-python",
   "name": "python",
   "nbconvert_exporter": "python",
   "pygments_lexer": "ipython2",
   "version": "2.7.15"
  }
 },
 "nbformat": 4,
 "nbformat_minor": 2
}
