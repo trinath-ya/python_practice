{
 "cells": [
  {
   "cell_type": "code",
   "execution_count": 3,
   "metadata": {},
   "outputs": [
    {
     "name": "stdout",
     "output_type": "stream",
     "text": [
      "[10, 20, 30, 40, 40]\n"
     ]
    }
   ],
   "source": [
    "l=[10,20,30,40]\n",
    "l.append(40)\n",
    "print l"
   ]
  },
  {
   "cell_type": "code",
   "execution_count": 7,
   "metadata": {},
   "outputs": [
    {
     "name": "stdout",
     "output_type": "stream",
     "text": [
      "[10, 20, 30, 40, [60, 70]]\n"
     ]
    }
   ],
   "source": [
    "l=[10,20,30,40]\n",
    "l.append([60,70])\n",
    "print l"
   ]
  },
  {
   "cell_type": "code",
   "execution_count": 8,
   "metadata": {},
   "outputs": [
    {
     "name": "stdout",
     "output_type": "stream",
     "text": [
      "[10, 20, 30, 40, 60, 70]\n"
     ]
    }
   ],
   "source": [
    "l=[10,20,30,40]\n",
    "l.extend([60,70])\n",
    "print l"
   ]
  },
  {
   "cell_type": "code",
   "execution_count": 17,
   "metadata": {},
   "outputs": [
    {
     "name": "stdout",
     "output_type": "stream",
     "text": [
      "['a', 'b', 'c', 'd', 'e']\n"
     ]
    }
   ],
   "source": [
    "l=[\"a\",\"b\",\"c\",\"d\"]\n",
    "l.extend(\"e\")\n",
    "print l"
   ]
  },
  {
   "cell_type": "code",
   "execution_count": 16,
   "metadata": {},
   "outputs": [
    {
     "name": "stdout",
     "output_type": "stream",
     "text": [
      "[10, 20, 30, 40, 60]\n"
     ]
    }
   ],
   "source": [
    "l=[10,20,30,40]\n",
    "l.extend([60])\n",
    "print l\n"
   ]
  },
  {
   "cell_type": "code",
   "execution_count": 24,
   "metadata": {},
   "outputs": [
    {
     "name": "stdout",
     "output_type": "stream",
     "text": [
      "None\n",
      "[200, 10, 20, 30, 40]\n"
     ]
    }
   ],
   "source": [
    "l=[10,20,30,40]\n",
    "print l.insert(0,200)\n",
    "print l"
   ]
  },
  {
   "cell_type": "code",
   "execution_count": 22,
   "metadata": {},
   "outputs": [
    {
     "name": "stdout",
     "output_type": "stream",
     "text": [
      "40\n",
      "[10, 20, 30]\n"
     ]
    }
   ],
   "source": [
    "#pop will remove index based\n",
    "l=[10,20,30,40]\n",
    "print l.pop()\n",
    "print l"
   ]
  },
  {
   "cell_type": "code",
   "execution_count": 25,
   "metadata": {},
   "outputs": [
    {
     "name": "stdout",
     "output_type": "stream",
     "text": [
      "10\n",
      "[20, 30, 40, 70, 80]\n"
     ]
    }
   ],
   "source": [
    "l=[10,20,30,40,70,80]\n",
    "print l.pop(0)\n",
    "print l"
   ]
  },
  {
   "cell_type": "code",
   "execution_count": 27,
   "metadata": {},
   "outputs": [
    {
     "name": "stdout",
     "output_type": "stream",
     "text": [
      "None\n",
      "[10, 20, 30, 40, 80]\n"
     ]
    }
   ],
   "source": [
    "#remove will remove element based\n",
    "l=[10,20,30,40,70,80]\n",
    "print l.remove(70)\n",
    "print l"
   ]
  },
  {
   "cell_type": "code",
   "execution_count": 55,
   "metadata": {},
   "outputs": [
    {
     "name": "stdout",
     "output_type": "stream",
     "text": [
      "2\n"
     ]
    }
   ],
   "source": [
    "#write a prog to provide case insenstive count for a list\n",
    "#write a prg to provide partial match as well\n",
    "#wap to find the index nth occ of the list for the element\n",
    "#wap a program to remove all occ (including all case sensitives)\n",
    "l=[\"a\",\"ab\",\"abcd\",\"a\",\"abcde\",\"a\",\"ab\"]\n",
    "print l.count(\"ab\")"
   ]
  },
  {
   "cell_type": "code",
   "execution_count": 2,
   "metadata": {},
   "outputs": [
    {
     "name": "stdout",
     "output_type": "stream",
     "text": [
      "2\n"
     ]
    }
   ],
   "source": [
    "l=\"a\",\"ab\",\"abcd\",\"a\",\"abcde\",\"a\",\"ab\"\n",
    "l1=str(l)\n",
    "l1.split(\",\")\n",
    "print l.count(\"ab\")"
   ]
  },
  {
   "cell_type": "code",
   "execution_count": 2,
   "metadata": {},
   "outputs": [
    {
     "data": {
      "text/plain": [
       "list"
      ]
     },
     "execution_count": 2,
     "metadata": {},
     "output_type": "execute_result"
    }
   ],
   "source": [
    "l=[\"a\",\"ab\",\"abcd\",\"a\",\"abcde\",\"a\",\"ab\"]\n",
    "type(l)"
   ]
  },
  {
   "cell_type": "code",
   "execution_count": 5,
   "metadata": {},
   "outputs": [
    {
     "name": "stdout",
     "output_type": "stream",
     "text": [
      "60\n"
     ]
    }
   ],
   "source": [
    "l=[40,30,60,20]\n",
    "l.sort()\n",
    "print l.pop()"
   ]
  },
  {
   "cell_type": "code",
   "execution_count": 6,
   "metadata": {},
   "outputs": [
    {
     "name": "stdout",
     "output_type": "stream",
     "text": [
      "60\n"
     ]
    }
   ],
   "source": [
    "print max([40,30,60,20])"
   ]
  },
  {
   "cell_type": "code",
   "execution_count": 11,
   "metadata": {},
   "outputs": [
    {
     "name": "stdout",
     "output_type": "stream",
     "text": [
      "40\n"
     ]
    }
   ],
   "source": [
    "l=[40,30,60,20]\n",
    "f_max=max(l)\n",
    "l.remove(f_max)\n",
    "print max(l)\n"
   ]
  },
  {
   "cell_type": "code",
   "execution_count": 21,
   "metadata": {},
   "outputs": [
    {
     "name": "stdout",
     "output_type": "stream",
     "text": [
      "set([40, 20, 60, 30, 70])\n",
      "[20, 30, 40, 60, 70]\n"
     ]
    }
   ],
   "source": [
    "l=[40,60,70,30,60,20,20,20]\n",
    "s=set(l)\n",
    "print set(l)\n",
    "l1=list(s)\n",
    "l1.sort()\n",
    "print l1"
   ]
  },
  {
   "cell_type": "code",
   "execution_count": 22,
   "metadata": {},
   "outputs": [
    {
     "name": "stdout",
     "output_type": "stream",
     "text": [
      "[40, 60, 70, 30, 60, 20, 20, 20]\n",
      "[40, 60, 70, 30, 60, 20, 20, 20]\n",
      "[40, 60, 70, 30, 60, 20, 20, 20]\n",
      "[40, 60, 70, 30, 60, 20, 20, 20]\n",
      "[40, 60, 70, 30, 60, 20, 20, 20]\n",
      "[40, 60, 70, 30, 60, 20, 20, 20]\n",
      "[40, 60, 70, 30, 60, 20, 20, 20]\n",
      "[40, 60, 70, 30, 60, 20, 20, 20]\n"
     ]
    }
   ],
   "source": [
    "l=[40,60,70,30,60,20,20,20]\n",
    "for i in l:\n",
    "    if l.count > 1:\n",
    "        print l"
   ]
  },
  {
   "cell_type": "code",
   "execution_count": 33,
   "metadata": {},
   "outputs": [
    {
     "name": "stdout",
     "output_type": "stream",
     "text": [
      "40\n",
      "60\n",
      "60\n"
     ]
    }
   ],
   "source": [
    "l1=[40,60,70,30,60,20,20,20]\n",
    "l2=[40,60,4,5,6,7,8]\n",
    "for i in l1:\n",
    "    if i in l2:\n",
    "        print i\n"
   ]
  },
  {
   "cell_type": "code",
   "execution_count": 37,
   "metadata": {},
   "outputs": [
    {
     "name": "stdout",
     "output_type": "stream",
     "text": [
      "set([40, 60])\n"
     ]
    }
   ],
   "source": [
    "l1=[40,60,70,30,60,20,20,20]\n",
    "l2=[40,60,4,5,6,7,8]\n",
    "s1=set(l1)\n",
    "s2=set(l2)\n",
    "print s1.intersection(s2)"
   ]
  },
  {
   "cell_type": "code",
   "execution_count": 38,
   "metadata": {},
   "outputs": [
    {
     "name": "stdout",
     "output_type": "stream",
     "text": [
      "       aaaabcdeeeeegggghiiijlmmnnnnooooppprrrrtttuuy\n"
     ]
    }
   ],
   "source": [
    "s=\"python i a pure object oriented programming language\"\n",
    "#sort the string by char\n",
    "#sort string by words\n",
    "#sort individual chars in wrods a d preserve the order as it is in input\n",
    "l=list(s)\n",
    "l.sort()\n",
    "print \"\".join(l)"
   ]
  },
  {
   "cell_type": "code",
   "execution_count": null,
   "metadata": {},
   "outputs": [],
   "source": []
  }
 ],
 "metadata": {
  "kernelspec": {
   "display_name": "Python 2",
   "language": "python",
   "name": "python2"
  },
  "language_info": {
   "codemirror_mode": {
    "name": "ipython",
    "version": 2
   },
   "file_extension": ".py",
   "mimetype": "text/x-python",
   "name": "python",
   "nbconvert_exporter": "python",
   "pygments_lexer": "ipython2",
   "version": "2.7.15"
  }
 },
 "nbformat": 4,
 "nbformat_minor": 2
}
