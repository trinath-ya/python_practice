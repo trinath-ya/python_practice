{
 "cells": [
  {
   "cell_type": "code",
   "execution_count": 6,
   "metadata": {},
   "outputs": [
    {
     "name": "stdout",
     "output_type": "stream",
     "text": [
      "str1\n",
      "res= 10\n"
     ]
    }
   ],
   "source": [
    "def fun():\n",
    "    print \"str1\"\n",
    "    return 10\n",
    "    print \"str2\"\n",
    "    return 20\n",
    "    print \"str3\"\n",
    "    return 30\n",
    "res=fun()\n",
    "print \"res=\",res"
   ]
  },
  {
   "cell_type": "code",
   "execution_count": 4,
   "metadata": {},
   "outputs": [
    {
     "name": "stdout",
     "output_type": "stream",
     "text": [
      "res= <generator object fun at 0x7f58346d2cd0>\n"
     ]
    }
   ],
   "source": [
    "def fun():\n",
    "    print \"str1\"\n",
    "    yield 10\n",
    "    print \"str2\"\n",
    "    yield 20\n",
    "    print \"str3\"\n",
    "    yield 30\n",
    "res=fun()\n",
    "print \"res=\",res"
   ]
  },
  {
   "cell_type": "code",
   "execution_count": 47,
   "metadata": {},
   "outputs": [
    {
     "name": "stdout",
     "output_type": "stream",
     "text": [
      "str1\n",
      "res= 10\n",
      "str2\n",
      "res= 20\n",
      "str3\n",
      "res= 30\n"
     ]
    }
   ],
   "source": [
    "def fun():\n",
    "    a=1000\n",
    "    print \"str1\"\n",
    "    yield 10\n",
    "    print \"str2\"\n",
    "    yield 20\n",
    "    print \"str3\"\n",
    "    yield 30\n",
    "res=fun()\n",
    "r1=res.next()\n",
    "print \"res=\",r1\n",
    "r2=res.next()\n",
    "print \"res=\",r2\n",
    "r3=res.next()\n",
    "print \"res=\",r3\n",
    "for i in res:\n",
    "    print i"
   ]
  },
  {
   "cell_type": "code",
   "execution_count": 43,
   "metadata": {},
   "outputs": [
    {
     "name": "stdout",
     "output_type": "stream",
     "text": [
      "0\n",
      "1\n",
      "2\n",
      "3\n",
      "4\n",
      "5\n",
      "6\n",
      "7\n",
      "8\n",
      "9\n"
     ]
    }
   ],
   "source": [
    "#n=raw_input(\"Value: \")\n",
    "def own_range(n):\n",
    "    i=0\n",
    "    while i<n:\n",
    "        yield i\n",
    "        i=i+1\n",
    "res = own_range(10)\n",
    "for i in res:\n",
    "    print i"
   ]
  },
  {
   "cell_type": "code",
   "execution_count": 2,
   "metadata": {},
   "outputs": [
    {
     "ename": "StopIteration",
     "evalue": "",
     "output_type": "error",
     "traceback": [
      "\u001b[0;31m---------------------------------------------------------------------------\u001b[0m",
      "\u001b[0;31mStopIteration\u001b[0m                             Traceback (most recent call last)",
      "\u001b[0;32m<ipython-input-2-8f868ee6fba1>\u001b[0m in \u001b[0;36m<module>\u001b[0;34m()\u001b[0m\n\u001b[0;32m----> 1\u001b[0;31m \u001b[0mres\u001b[0m\u001b[0;34m.\u001b[0m\u001b[0mnext\u001b[0m\u001b[0;34m(\u001b[0m\u001b[0;34m)\u001b[0m\u001b[0;34m\u001b[0m\u001b[0m\n\u001b[0m",
      "\u001b[0;31mStopIteration\u001b[0m: "
     ]
    }
   ],
   "source": [
    "res.next()"
   ]
  },
  {
   "cell_type": "code",
   "execution_count": 4,
   "metadata": {},
   "outputs": [
    {
     "name": "stdout",
     "output_type": "stream",
     "text": [
      "Value: 12\n",
      "even\n"
     ]
    }
   ],
   "source": [
    "n=float(raw_input(\"Value: \"))\n",
    "if n%2==0:\n",
    "    print \"even\"\n",
    "else:\n",
    "    print \"ODD\""
   ]
  },
  {
   "cell_type": "code",
   "execution_count": 5,
   "metadata": {},
   "outputs": [
    {
     "name": "stdout",
     "output_type": "stream",
     "text": [
      "Value: 12\n",
      "EVEN\n"
     ]
    }
   ],
   "source": [
    "n=float(raw_input(\"Value: \"))\n",
    "res = \"EVEN\" if n%2==0 else \"ODD\"\n",
    "print res"
   ]
  },
  {
   "cell_type": "code",
   "execution_count": 6,
   "metadata": {},
   "outputs": [
    {
     "name": "stdout",
     "output_type": "stream",
     "text": [
      "Value: 13\n",
      "ODD\n"
     ]
    }
   ],
   "source": [
    "n=float(raw_input(\"Value: \"))\n",
    "res = \"EVEN\" if n%2==0 else \"ODD\"\n",
    "print res"
   ]
  },
  {
   "cell_type": "code",
   "execution_count": 8,
   "metadata": {},
   "outputs": [
    {
     "name": "stdout",
     "output_type": "stream",
     "text": [
      "Value: -2\n",
      "Negetive\n"
     ]
    }
   ],
   "source": [
    "n=float(raw_input(\"Value: \"))\n",
    "res = \"Positive\" if n>0 else \"Negetive\"\n",
    "print res"
   ]
  },
  {
   "cell_type": "code",
   "execution_count": 11,
   "metadata": {},
   "outputs": [
    {
     "name": "stdout",
     "output_type": "stream",
     "text": [
      "['+', '-', '+', '+', '-', '+', '-']\n"
     ]
    }
   ],
   "source": [
    "#for positiv eor negative\n",
    "#['+', '-', '+', '+', '-', '+', '-']\n",
    "l=[10,-20,30,40,-50,35,-60]\n",
    "res=[]\n",
    "for i in l:\n",
    "    res.append(\"+\") if i>0 else res.append(\"-\")\n",
    "print res"
   ]
  },
  {
   "cell_type": "code",
   "execution_count": 12,
   "metadata": {},
   "outputs": [
    {
     "name": "stdout",
     "output_type": "stream",
     "text": [
      "20\n",
      "-10\n",
      "40\n",
      "50\n",
      "-40\n",
      "45\n",
      "-50\n"
     ]
    }
   ],
   "source": [
    "l=[10,-20,30,40,-50,35,-60]\n",
    "for i in l:\n",
    "    print i+10"
   ]
  },
  {
   "cell_type": "code",
   "execution_count": 14,
   "metadata": {},
   "outputs": [
    {
     "name": "stdout",
     "output_type": "stream",
     "text": [
      "[20, -10, 40, 50, -40, 45, -50]\n"
     ]
    }
   ],
   "source": [
    "l=[10,-20,30,40,-50,35,-60]\n",
    "res=[]\n",
    "for i in l:\n",
    "    res.append(i+10)\n",
    "print res"
   ]
  },
  {
   "cell_type": "code",
   "execution_count": 16,
   "metadata": {},
   "outputs": [
    {
     "name": "stdout",
     "output_type": "stream",
     "text": [
      "[20, -10, 40, 50, -40, 45, -50]\n"
     ]
    }
   ],
   "source": [
    "l=[10,-20,30,40,-50,35,-60]\n",
    "res=[i+10 for i in l]\n",
    "print res"
   ]
  },
  {
   "cell_type": "code",
   "execution_count": 18,
   "metadata": {},
   "outputs": [
    {
     "name": "stdout",
     "output_type": "stream",
     "text": [
      "[20, -30, 40, 50, -60, 45, -70]\n"
     ]
    }
   ],
   "source": [
    "l=[10,-20,30,40,-50,35,-60]\n",
    "res=[i+10 if i>0 else i-10 for i in l]\n",
    "print res"
   ]
  },
  {
   "cell_type": "code",
   "execution_count": 19,
   "metadata": {},
   "outputs": [
    {
     "name": "stdout",
     "output_type": "stream",
     "text": [
      "['+', '-', '+', '+', '-', '+', '-']\n"
     ]
    }
   ],
   "source": [
    "l=[10,-20,30,40,-50,35,-60]\n",
    "res=[\"+\" if i>0 else \"-\" for i in l]\n",
    "print res"
   ]
  },
  {
   "cell_type": "code",
   "execution_count": 21,
   "metadata": {},
   "outputs": [
    {
     "name": "stdout",
     "output_type": "stream",
     "text": [
      "['EVEN', 'EVEN', 'EVEN', 'EVEN', 'EVEN', 'ODD', 'EVEN', 'ODD']\n"
     ]
    }
   ],
   "source": [
    "l=[10,20,30,40,50,35,60,21]\n",
    "res=[\"EVEN\" if i%2==0 else \"ODD\" for i in l]\n",
    "print res"
   ]
  },
  {
   "cell_type": "code",
   "execution_count": 26,
   "metadata": {},
   "outputs": [
    {
     "name": "stdout",
     "output_type": "stream",
     "text": [
      "[10, 20, 30, 40, 50, 60]\n"
     ]
    }
   ],
   "source": [
    "l=[10,20,30,40,50,35,60,21]\n",
    "res=[]\n",
    "for i in l:\n",
    "    if i%2==0:\n",
    "        res.append(i)\n",
    "print res"
   ]
  },
  {
   "cell_type": "code",
   "execution_count": 28,
   "metadata": {},
   "outputs": [
    {
     "name": "stdout",
     "output_type": "stream",
     "text": [
      "[10, 20, 30, 40, 50, 60]\n"
     ]
    }
   ],
   "source": [
    "l=[10,20,30,40,50,35,60,21]\n",
    "print [i for i in l if i%2==0]"
   ]
  },
  {
   "cell_type": "code",
   "execution_count": 30,
   "metadata": {},
   "outputs": [
    {
     "name": "stdout",
     "output_type": "stream",
     "text": [
      "[10, 20, 30, 40, 35]\n"
     ]
    }
   ],
   "source": [
    "#remove all negative values, if it is a positive decide whether it is even or odd\n",
    "l=[10,20,30,40,-50,35,-60,-21]\n",
    "print [i for i in l if i>0]"
   ]
  },
  {
   "cell_type": "code",
   "execution_count": 31,
   "metadata": {},
   "outputs": [
    {
     "name": "stdout",
     "output_type": "stream",
     "text": [
      "['Even', 'Even', 'Even', 'Even', 'ODD']\n"
     ]
    }
   ],
   "source": [
    "#remove all negative values, if it is a positive decide whether it is even or odd\n",
    "l=[10,20,30,40,-50,35,-60,-21]\n",
    "print [\"Even\" if i%2==0 else \"ODD\" for i in l if i>0]"
   ]
  },
  {
   "cell_type": "code",
   "execution_count": 35,
   "metadata": {},
   "outputs": [
    {
     "name": "stdout",
     "output_type": "stream",
     "text": [
      "Even\n",
      "Even\n",
      "Even\n",
      "Even\n",
      "Even\n",
      "ODD\n",
      "Even\n",
      "ODD\n"
     ]
    }
   ],
   "source": [
    "def fun(n):\n",
    "    if n%2==0:\n",
    "        return \"Even\"\n",
    "    else:\n",
    "        return \"ODD\"\n",
    "l=[10,20,30,40,-50,35,-60,-21]\n",
    "for i in l:\n",
    "    print fun(i)"
   ]
  },
  {
   "cell_type": "code",
   "execution_count": 33,
   "metadata": {},
   "outputs": [
    {
     "name": "stdout",
     "output_type": "stream",
     "text": [
      "['Even', 'Even', 'Even', 'Even', 'Even', 'ODD', 'Even', 'ODD']\n"
     ]
    }
   ],
   "source": [
    "def fun(n):\n",
    "    if n%2==0:\n",
    "        return \"Even\"\n",
    "    else:\n",
    "        return \"ODD\"\n",
    "l=[10,20,30,40,-50,35,-60,-21]\n",
    "print [fun(i) for i in l]"
   ]
  },
  {
   "cell_type": "code",
   "execution_count": 36,
   "metadata": {},
   "outputs": [
    {
     "name": "stdout",
     "output_type": "stream",
     "text": [
      "['Even', 'Even', 'Even', 'Even', 'Even', 'ODD', 'Even', 'ODD']\n",
      "['Even', 'Even', 'Even', 'Even', 'Even', 'ODD', 'Even', 'ODD']\n"
     ]
    }
   ],
   "source": [
    "def fun(n):\n",
    "    if n%2==0:\n",
    "        return \"Even\"\n",
    "    else:\n",
    "        return \"ODD\"\n",
    "l=[10,20,30,40,-50,35,-60,-21]\n",
    "print [fun(i) for i in l]\n",
    "print map(fun,l)"
   ]
  },
  {
   "cell_type": "code",
   "execution_count": null,
   "metadata": {},
   "outputs": [],
   "source": [
    "#read about map,filter,reduce:"
   ]
  }
 ],
 "metadata": {
  "kernelspec": {
   "display_name": "Python 2",
   "language": "python",
   "name": "python2"
  },
  "language_info": {
   "codemirror_mode": {
    "name": "ipython",
    "version": 2
   },
   "file_extension": ".py",
   "mimetype": "text/x-python",
   "name": "python",
   "nbconvert_exporter": "python",
   "pygments_lexer": "ipython2",
   "version": "2.7.15"
  }
 },
 "nbformat": 4,
 "nbformat_minor": 2
}
